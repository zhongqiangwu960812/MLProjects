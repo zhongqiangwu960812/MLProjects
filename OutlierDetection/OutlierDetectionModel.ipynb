{
 "cells": [
  {
   "cell_type": "markdown",
   "metadata": {},
   "source": [
    "### Description：\n",
    "> 在数据预处理部分，已经把所有的数据统一化特征了，现在的数据都是一样的维度大小，但是存在的问题是缺失值太多， 现在我想先简单的进行下一步，模型部分， 先建立简单的模型跑跑试试, 但还是有一些工作要做\n",
    ">> * 1. 缺失值的问题，这里我打算直接用填充的方式解决， 两种填充方式： 零填充，简单暴力，并且我目前觉得挺好的一种方式。 均值或者中位数填充， 这个填充的话要分好正负样本才行， 我先试试第一种填充方式\n",
    ">> * 2. 数据类型的问题，目前的数据都是object， 所以需要先进行数据的转换，并且探测器类型那块还有字符，需要编码LabelEncoder\n",
    ">> * 2. 特征的问题， 至于深度那块的特征实在是太多，我想用自动编码器进行降维\n",
    ">> * 3. 这样处理完之后，合成新的数据集，然后就进行划分，先采用K近邻跑一遍试试"
   ]
  },
  {
   "cell_type": "code",
   "execution_count": 36,
   "metadata": {},
   "outputs": [],
   "source": [
    "\"\"\"导入包\"\"\"\n",
    "import numpy as np\n",
    "import pandas as pd\n",
    "\n",
    "from keras.models import Model #泛型模型\n",
    "from keras.layers import Dense, Input\n",
    "import matplotlib.pyplot as plt\n",
    "\n",
    "from sklearn import preprocessing\n",
    "from sklearn.preprocessing import StandardScaler\n",
    "\n",
    "# 模型选择\n",
    "from sklearn.model_selection import KFold\n",
    "from sklearn.model_selection import cross_val_score\n",
    "from sklearn.model_selection import StratifiedShuffleSplit\n",
    "from sklearn.model_selection import GridSearchCV\n",
    "\n",
    "# 模型\n",
    "from sklearn.linear_model import LogisticRegression\n",
    "from sklearn.neighbors import KNeighborsClassifier\n",
    "from sklearn.tree import DecisionTreeClassifier\n",
    "from sklearn.svm import SVC\n",
    "from sklearn.naive_bayes import GaussianNB\n",
    "from sklearn.ensemble import AdaBoostClassifier\n",
    "from xgboost import XGBClassifier\n",
    "\n",
    "# 模型度量函数\n",
    "from sklearn.metrics import classification_report\n",
    "from sklearn.metrics import confusion_matrix\n",
    "from sklearn.metrics import accuracy_score\n",
    "\n",
    "import warnings\n",
    "warnings.filterwarnings('ignore')"
   ]
  },
  {
   "cell_type": "code",
   "execution_count": 37,
   "metadata": {},
   "outputs": [],
   "source": [
    "\"\"\"导入数据\"\"\"\n",
    "data = pd.read_csv(\"data1.csv\")"
   ]
  },
  {
   "cell_type": "code",
   "execution_count": 38,
   "metadata": {},
   "outputs": [
    {
     "name": "stdout",
     "output_type": "stream",
     "text": [
      "(22902, 2929)\n"
     ]
    },
    {
     "data": {
      "text/html": [
       "<div>\n",
       "<style scoped>\n",
       "    .dataframe tbody tr th:only-of-type {\n",
       "        vertical-align: middle;\n",
       "    }\n",
       "\n",
       "    .dataframe tbody tr th {\n",
       "        vertical-align: top;\n",
       "    }\n",
       "\n",
       "    .dataframe thead th {\n",
       "        text-align: right;\n",
       "    }\n",
       "</style>\n",
       "<table border=\"1\" class=\"dataframe\">\n",
       "  <thead>\n",
       "    <tr style=\"text-align: right;\">\n",
       "      <th></th>\n",
       "      <th>time</th>\n",
       "      <th>latitude</th>\n",
       "      <th>longitude</th>\n",
       "      <th>instrument</th>\n",
       "      <th>temperature0.0</th>\n",
       "      <th>temperature20.0</th>\n",
       "      <th>temperature250.0</th>\n",
       "      <th>temperature70.0</th>\n",
       "      <th>temperature140.0</th>\n",
       "      <th>temperature155.0</th>\n",
       "      <th>...</th>\n",
       "      <th>salinity1516.0</th>\n",
       "      <th>temperature1036.0</th>\n",
       "      <th>salinity1036.0</th>\n",
       "      <th>temperature863.0</th>\n",
       "      <th>salinity863.0</th>\n",
       "      <th>temperature943.0</th>\n",
       "      <th>salinity943.0</th>\n",
       "      <th>temperature967.0</th>\n",
       "      <th>salinity967.0</th>\n",
       "      <th>label</th>\n",
       "    </tr>\n",
       "  </thead>\n",
       "  <tbody>\n",
       "    <tr>\n",
       "      <th>0</th>\n",
       "      <td>23806.38</td>\n",
       "      <td>1.200</td>\n",
       "      <td>139.100</td>\n",
       "      <td>1</td>\n",
       "      <td>29.9</td>\n",
       "      <td>30.0</td>\n",
       "      <td>0.0</td>\n",
       "      <td>28.8</td>\n",
       "      <td>0.0</td>\n",
       "      <td>0.0</td>\n",
       "      <td>...</td>\n",
       "      <td>0.0</td>\n",
       "      <td>0.0</td>\n",
       "      <td>0.0</td>\n",
       "      <td>0.0</td>\n",
       "      <td>0.0</td>\n",
       "      <td>0.0</td>\n",
       "      <td>0.0</td>\n",
       "      <td>0.0</td>\n",
       "      <td>0.0</td>\n",
       "      <td>1</td>\n",
       "    </tr>\n",
       "    <tr>\n",
       "      <th>1</th>\n",
       "      <td>23806.42</td>\n",
       "      <td>1.783</td>\n",
       "      <td>137.500</td>\n",
       "      <td>1</td>\n",
       "      <td>30.1</td>\n",
       "      <td>30.1</td>\n",
       "      <td>0.0</td>\n",
       "      <td>29.3</td>\n",
       "      <td>0.0</td>\n",
       "      <td>0.0</td>\n",
       "      <td>...</td>\n",
       "      <td>0.0</td>\n",
       "      <td>0.0</td>\n",
       "      <td>0.0</td>\n",
       "      <td>0.0</td>\n",
       "      <td>0.0</td>\n",
       "      <td>0.0</td>\n",
       "      <td>0.0</td>\n",
       "      <td>0.0</td>\n",
       "      <td>0.0</td>\n",
       "      <td>1</td>\n",
       "    </tr>\n",
       "    <tr>\n",
       "      <th>2</th>\n",
       "      <td>23806.50</td>\n",
       "      <td>1.883</td>\n",
       "      <td>137.867</td>\n",
       "      <td>1</td>\n",
       "      <td>28.9</td>\n",
       "      <td>28.9</td>\n",
       "      <td>0.0</td>\n",
       "      <td>27.3</td>\n",
       "      <td>0.0</td>\n",
       "      <td>0.0</td>\n",
       "      <td>...</td>\n",
       "      <td>0.0</td>\n",
       "      <td>0.0</td>\n",
       "      <td>0.0</td>\n",
       "      <td>0.0</td>\n",
       "      <td>0.0</td>\n",
       "      <td>0.0</td>\n",
       "      <td>0.0</td>\n",
       "      <td>0.0</td>\n",
       "      <td>0.0</td>\n",
       "      <td>1</td>\n",
       "    </tr>\n",
       "    <tr>\n",
       "      <th>3</th>\n",
       "      <td>23806.58</td>\n",
       "      <td>2.083</td>\n",
       "      <td>137.300</td>\n",
       "      <td>1</td>\n",
       "      <td>29.0</td>\n",
       "      <td>29.0</td>\n",
       "      <td>0.0</td>\n",
       "      <td>28.4</td>\n",
       "      <td>0.0</td>\n",
       "      <td>0.0</td>\n",
       "      <td>...</td>\n",
       "      <td>0.0</td>\n",
       "      <td>0.0</td>\n",
       "      <td>0.0</td>\n",
       "      <td>0.0</td>\n",
       "      <td>0.0</td>\n",
       "      <td>0.0</td>\n",
       "      <td>0.0</td>\n",
       "      <td>0.0</td>\n",
       "      <td>0.0</td>\n",
       "      <td>1</td>\n",
       "    </tr>\n",
       "    <tr>\n",
       "      <th>4</th>\n",
       "      <td>23806.67</td>\n",
       "      <td>2.283</td>\n",
       "      <td>137.183</td>\n",
       "      <td>1</td>\n",
       "      <td>28.9</td>\n",
       "      <td>28.9</td>\n",
       "      <td>0.0</td>\n",
       "      <td>26.7</td>\n",
       "      <td>0.0</td>\n",
       "      <td>0.0</td>\n",
       "      <td>...</td>\n",
       "      <td>0.0</td>\n",
       "      <td>0.0</td>\n",
       "      <td>0.0</td>\n",
       "      <td>0.0</td>\n",
       "      <td>0.0</td>\n",
       "      <td>0.0</td>\n",
       "      <td>0.0</td>\n",
       "      <td>0.0</td>\n",
       "      <td>0.0</td>\n",
       "      <td>1</td>\n",
       "    </tr>\n",
       "  </tbody>\n",
       "</table>\n",
       "<p>5 rows × 2929 columns</p>\n",
       "</div>"
      ],
      "text/plain": [
       "       time  latitude  longitude instrument  temperature0.0  temperature20.0  \\\n",
       "0  23806.38     1.200    139.100          1            29.9             30.0   \n",
       "1  23806.42     1.783    137.500          1            30.1             30.1   \n",
       "2  23806.50     1.883    137.867          1            28.9             28.9   \n",
       "3  23806.58     2.083    137.300          1            29.0             29.0   \n",
       "4  23806.67     2.283    137.183          1            28.9             28.9   \n",
       "\n",
       "   temperature250.0  temperature70.0  temperature140.0  temperature155.0  ...  \\\n",
       "0               0.0             28.8               0.0               0.0  ...   \n",
       "1               0.0             29.3               0.0               0.0  ...   \n",
       "2               0.0             27.3               0.0               0.0  ...   \n",
       "3               0.0             28.4               0.0               0.0  ...   \n",
       "4               0.0             26.7               0.0               0.0  ...   \n",
       "\n",
       "   salinity1516.0  temperature1036.0  salinity1036.0  temperature863.0  \\\n",
       "0             0.0                0.0             0.0               0.0   \n",
       "1             0.0                0.0             0.0               0.0   \n",
       "2             0.0                0.0             0.0               0.0   \n",
       "3             0.0                0.0             0.0               0.0   \n",
       "4             0.0                0.0             0.0               0.0   \n",
       "\n",
       "   salinity863.0  temperature943.0  salinity943.0  temperature967.0  \\\n",
       "0            0.0               0.0            0.0               0.0   \n",
       "1            0.0               0.0            0.0               0.0   \n",
       "2            0.0               0.0            0.0               0.0   \n",
       "3            0.0               0.0            0.0               0.0   \n",
       "4            0.0               0.0            0.0               0.0   \n",
       "\n",
       "   salinity967.0  label  \n",
       "0            0.0      1  \n",
       "1            0.0      1  \n",
       "2            0.0      1  \n",
       "3            0.0      1  \n",
       "4            0.0      1  \n",
       "\n",
       "[5 rows x 2929 columns]"
      ]
     },
     "execution_count": 38,
     "metadata": {},
     "output_type": "execute_result"
    }
   ],
   "source": [
    "\"\"\"处理缺失值，先采用简单的0填充\"\"\"\n",
    "data.head(5)\n",
    "data = data.fillna(0)\n",
    "\n",
    "# print(data.isnull().sum())\n",
    "print(data.shape)\n",
    "data.head(5)"
   ]
  },
  {
   "cell_type": "code",
   "execution_count": 39,
   "metadata": {},
   "outputs": [
    {
     "name": "stdout",
     "output_type": "stream",
     "text": [
      "8    12840\n",
      "1     3347\n",
      "5     2395\n",
      "0     1670\n",
      "3     1654\n",
      "7      477\n",
      "2      372\n",
      "4      108\n",
      "9       34\n",
      "6        5\n",
      "Name: instrument, dtype: int64\n"
     ]
    }
   ],
   "source": [
    "#### \"\"\"查看一下数据类型，把instrument转换成LabelEncoder编码\"\"\"\n",
    "# print(data.dtypes)\n",
    "tran = data['instrument']\n",
    "tran = tran.astype(np.string_)\n",
    "data['instrument'] = tran\n",
    "\n",
    "le = preprocessing.LabelEncoder()\n",
    "le.fit(data['instrument'].unique())\n",
    "data['instrument'] = le.transform(data['instrument'])\n",
    "# print(data['instrument'])\n",
    "print(data['instrument'].value_counts())"
   ]
  },
  {
   "cell_type": "code",
   "execution_count": 40,
   "metadata": {},
   "outputs": [],
   "source": [
    "\"\"\"查看data的数据类型，并且要进行编码器和解码器压缩特征\"\"\"\n",
    "data.dtypes\n",
    "data.head(5)\n",
    "\n",
    "# 提取出sub_data，保存需哟啊的特征\n",
    "sub_data = data.iloc[:, 0:4].copy()\n",
    "# 获取需要压缩的列\n",
    "deep = data.iloc[:, 4:-1].copy()"
   ]
  },
  {
   "cell_type": "code",
   "execution_count": 5,
   "metadata": {},
   "outputs": [
    {
     "name": "stdout",
     "output_type": "stream",
     "text": [
      "(22902, 2924)\n"
     ]
    }
   ],
   "source": [
    "value = deep.values\n",
    "print(value.shape)"
   ]
  },
  {
   "cell_type": "code",
   "execution_count": 41,
   "metadata": {},
   "outputs": [],
   "source": [
    "\"\"\"把数据进行标准化\"\"\"\n",
    "scaler = StandardScaler()\n",
    "values = scaler.fit_transform(value)"
   ]
  },
  {
   "cell_type": "code",
   "execution_count": 42,
   "metadata": {},
   "outputs": [
    {
     "name": "stdout",
     "output_type": "stream",
     "text": [
      "Epoch 1/20\n",
      "22902/22902 [==============================] - 8s 366us/step - loss: 0.9092\n",
      "Epoch 2/20\n",
      "22902/22902 [==============================] - 7s 320us/step - loss: 0.8882\n",
      "Epoch 3/20\n",
      "22902/22902 [==============================] - 7s 311us/step - loss: 0.8820\n",
      "Epoch 4/20\n",
      "22902/22902 [==============================] - 6s 247us/step - loss: 0.8810\n",
      "Epoch 5/20\n",
      "22902/22902 [==============================] - 5s 222us/step - loss: 0.8750\n",
      "Epoch 6/20\n",
      "22902/22902 [==============================] - 5s 222us/step - loss: 0.8737\n",
      "Epoch 7/20\n",
      "22902/22902 [==============================] - 5s 223us/step - loss: 0.8728\n",
      "Epoch 8/20\n",
      "22902/22902 [==============================] - 5s 224us/step - loss: 0.8718\n",
      "Epoch 9/20\n",
      "22902/22902 [==============================] - 5s 223us/step - loss: 0.8708\n",
      "Epoch 10/20\n",
      "22902/22902 [==============================] - 5s 223us/step - loss: 0.8700\n",
      "Epoch 11/20\n",
      "22902/22902 [==============================] - 5s 223us/step - loss: 0.8688\n",
      "Epoch 12/20\n",
      "22902/22902 [==============================] - 5s 224us/step - loss: 0.8683\n",
      "Epoch 13/20\n",
      "22902/22902 [==============================] - 5s 222us/step - loss: 0.8678\n",
      "Epoch 14/20\n",
      "22902/22902 [==============================] - 5s 220us/step - loss: 0.8675\n",
      "Epoch 15/20\n",
      "22902/22902 [==============================] - 5s 220us/step - loss: 0.8670\n",
      "Epoch 16/20\n",
      "22902/22902 [==============================] - 5s 220us/step - loss: 0.8667\n",
      "Epoch 17/20\n",
      "22902/22902 [==============================] - 5s 220us/step - loss: 0.8665\n",
      "Epoch 18/20\n",
      "22902/22902 [==============================] - 5s 218us/step - loss: 0.8661\n",
      "Epoch 19/20\n",
      "22902/22902 [==============================] - 5s 219us/step - loss: 0.8662\n",
      "Epoch 20/20\n",
      "22902/22902 [==============================] - 5s 212us/step - loss: 0.8664\n"
     ]
    },
    {
     "data": {
      "text/plain": [
       "<keras.callbacks.History at 0x1a5173bca58>"
      ]
     },
     "execution_count": 42,
     "metadata": {},
     "output_type": "execute_result"
    }
   ],
   "source": [
    "\"\"\"自编码器模型\"\"\"\n",
    "\n",
    "# 压缩特征维度至2维\n",
    "encoding_dim = 5\n",
    " \n",
    "# this is our input placeholder\n",
    "input_data = Input(shape=(2924,))\n",
    " \n",
    "# 编码层\n",
    "encoded = Dense(128, activation='relu')(input_data)\n",
    "encoded = Dense(64, activation='relu')(encoded)\n",
    "encoded = Dense(10, activation='relu')(encoded)\n",
    "encoder_output = Dense(encoding_dim)(encoded)\n",
    " \n",
    "# 解码层\n",
    "decoded = Dense(10, activation='relu')(encoder_output)\n",
    "decoded = Dense(64, activation='relu')(decoded)\n",
    "decoded = Dense(128, activation='relu')(decoded)\n",
    "decoded = Dense(2924, activation='tanh')(decoded)\n",
    " \n",
    "# 构建自编码模型\n",
    "autoencoder = Model(inputs=input_data, outputs=decoded)\n",
    " \n",
    "# 构建编码模型\n",
    "encoder = Model(inputs=input_data, outputs=encoder_output)\n",
    " \n",
    "# compile autoencoder\n",
    "autoencoder.compile(optimizer='adam', loss='mse')\n",
    " \n",
    "# training\n",
    "autoencoder.fit(values, values, epochs=20, batch_size=256, shuffle=True)\n"
   ]
  },
  {
   "cell_type": "code",
   "execution_count": 43,
   "metadata": {},
   "outputs": [
    {
     "name": "stdout",
     "output_type": "stream",
     "text": [
      "(22902, 5)\n"
     ]
    }
   ],
   "source": [
    "# plotting\n",
    "encoded_data = encoder.predict(values)\n",
    "print(encoded_data.shape)"
   ]
  },
  {
   "cell_type": "code",
   "execution_count": 44,
   "metadata": {},
   "outputs": [
    {
     "name": "stdout",
     "output_type": "stream",
     "text": [
      "(22902, 5)\n"
     ]
    }
   ],
   "source": [
    "# new_feature_data = pd.DataFrame(encoded_data, columns = ['deep1', 'deep2'])\n",
    "sub_data1 = pd.DataFrame(encoded_data, columns=['deep'+ str(i) for i in range(encoding_dim)])\n",
    "print(sub_data1.shape)"
   ]
  },
  {
   "cell_type": "code",
   "execution_count": 45,
   "metadata": {},
   "outputs": [
    {
     "name": "stdout",
     "output_type": "stream",
     "text": [
      "(22902, 9)\n"
     ]
    }
   ],
   "source": [
    "\"\"\"下面进行数据的合并\"\"\"\n",
    "newdata = pd.concat([sub_data, sub_data1], axis=1)\n",
    "print(newdata.shape)"
   ]
  },
  {
   "cell_type": "code",
   "execution_count": 25,
   "metadata": {},
   "outputs": [
    {
     "data": {
      "text/html": [
       "<div>\n",
       "<style scoped>\n",
       "    .dataframe tbody tr th:only-of-type {\n",
       "        vertical-align: middle;\n",
       "    }\n",
       "\n",
       "    .dataframe tbody tr th {\n",
       "        vertical-align: top;\n",
       "    }\n",
       "\n",
       "    .dataframe thead th {\n",
       "        text-align: right;\n",
       "    }\n",
       "</style>\n",
       "<table border=\"1\" class=\"dataframe\">\n",
       "  <thead>\n",
       "    <tr style=\"text-align: right;\">\n",
       "      <th></th>\n",
       "      <th>time</th>\n",
       "      <th>latitude</th>\n",
       "      <th>longitude</th>\n",
       "      <th>instrument</th>\n",
       "      <th>deep0</th>\n",
       "      <th>deep1</th>\n",
       "      <th>deep2</th>\n",
       "      <th>deep3</th>\n",
       "      <th>deep4</th>\n",
       "    </tr>\n",
       "  </thead>\n",
       "  <tbody>\n",
       "    <tr>\n",
       "      <th>0</th>\n",
       "      <td>23806.38</td>\n",
       "      <td>1.200</td>\n",
       "      <td>139.100</td>\n",
       "      <td>0</td>\n",
       "      <td>-1.263606</td>\n",
       "      <td>2.414915</td>\n",
       "      <td>2.106735</td>\n",
       "      <td>-2.174347</td>\n",
       "      <td>-11.102189</td>\n",
       "    </tr>\n",
       "    <tr>\n",
       "      <th>1</th>\n",
       "      <td>23806.42</td>\n",
       "      <td>1.783</td>\n",
       "      <td>137.500</td>\n",
       "      <td>0</td>\n",
       "      <td>-1.271358</td>\n",
       "      <td>2.432063</td>\n",
       "      <td>2.111157</td>\n",
       "      <td>-2.181359</td>\n",
       "      <td>-11.154698</td>\n",
       "    </tr>\n",
       "    <tr>\n",
       "      <th>2</th>\n",
       "      <td>23806.50</td>\n",
       "      <td>1.883</td>\n",
       "      <td>137.867</td>\n",
       "      <td>0</td>\n",
       "      <td>-1.208363</td>\n",
       "      <td>2.282415</td>\n",
       "      <td>2.080159</td>\n",
       "      <td>-2.148557</td>\n",
       "      <td>-10.749419</td>\n",
       "    </tr>\n",
       "    <tr>\n",
       "      <th>3</th>\n",
       "      <td>23806.58</td>\n",
       "      <td>2.083</td>\n",
       "      <td>137.300</td>\n",
       "      <td>0</td>\n",
       "      <td>-1.221684</td>\n",
       "      <td>2.319156</td>\n",
       "      <td>2.085422</td>\n",
       "      <td>-2.154826</td>\n",
       "      <td>-10.839140</td>\n",
       "    </tr>\n",
       "    <tr>\n",
       "      <th>4</th>\n",
       "      <td>23806.67</td>\n",
       "      <td>2.283</td>\n",
       "      <td>137.183</td>\n",
       "      <td>0</td>\n",
       "      <td>-1.201099</td>\n",
       "      <td>2.265702</td>\n",
       "      <td>2.083145</td>\n",
       "      <td>-2.149527</td>\n",
       "      <td>-10.727961</td>\n",
       "    </tr>\n",
       "  </tbody>\n",
       "</table>\n",
       "</div>"
      ],
      "text/plain": [
       "       time  latitude  longitude  instrument     deep0     deep1     deep2  \\\n",
       "0  23806.38     1.200    139.100           0 -1.263606  2.414915  2.106735   \n",
       "1  23806.42     1.783    137.500           0 -1.271358  2.432063  2.111157   \n",
       "2  23806.50     1.883    137.867           0 -1.208363  2.282415  2.080159   \n",
       "3  23806.58     2.083    137.300           0 -1.221684  2.319156  2.085422   \n",
       "4  23806.67     2.283    137.183           0 -1.201099  2.265702  2.083145   \n",
       "\n",
       "      deep3      deep4  \n",
       "0 -2.174347 -11.102189  \n",
       "1 -2.181359 -11.154698  \n",
       "2 -2.148557 -10.749419  \n",
       "3 -2.154826 -10.839140  \n",
       "4 -2.149527 -10.727961  "
      ]
     },
     "execution_count": 25,
     "metadata": {},
     "output_type": "execute_result"
    }
   ],
   "source": [
    "\"\"\"查看newdata\"\"\"\n",
    "newdata.head(5)"
   ]
  },
  {
   "cell_type": "code",
   "execution_count": 46,
   "metadata": {},
   "outputs": [],
   "source": [
    "# 标准化前三列的数据\n",
    "newdata.iloc[:,0:3] = scaler.fit_transform(newdata.iloc[:, 0:3])"
   ]
  },
  {
   "cell_type": "code",
   "execution_count": 27,
   "metadata": {},
   "outputs": [
    {
     "data": {
      "text/html": [
       "<div>\n",
       "<style scoped>\n",
       "    .dataframe tbody tr th:only-of-type {\n",
       "        vertical-align: middle;\n",
       "    }\n",
       "\n",
       "    .dataframe tbody tr th {\n",
       "        vertical-align: top;\n",
       "    }\n",
       "\n",
       "    .dataframe thead th {\n",
       "        text-align: right;\n",
       "    }\n",
       "</style>\n",
       "<table border=\"1\" class=\"dataframe\">\n",
       "  <thead>\n",
       "    <tr style=\"text-align: right;\">\n",
       "      <th></th>\n",
       "      <th>time</th>\n",
       "      <th>latitude</th>\n",
       "      <th>longitude</th>\n",
       "      <th>instrument</th>\n",
       "      <th>deep0</th>\n",
       "      <th>deep1</th>\n",
       "      <th>deep2</th>\n",
       "      <th>deep3</th>\n",
       "      <th>deep4</th>\n",
       "    </tr>\n",
       "  </thead>\n",
       "  <tbody>\n",
       "    <tr>\n",
       "      <th>0</th>\n",
       "      <td>-2.832190</td>\n",
       "      <td>-1.110975</td>\n",
       "      <td>1.167391</td>\n",
       "      <td>0</td>\n",
       "      <td>-1.263606</td>\n",
       "      <td>2.414915</td>\n",
       "      <td>2.106735</td>\n",
       "      <td>-2.174347</td>\n",
       "      <td>-11.102189</td>\n",
       "    </tr>\n",
       "    <tr>\n",
       "      <th>1</th>\n",
       "      <td>-2.832180</td>\n",
       "      <td>-0.912803</td>\n",
       "      <td>0.576045</td>\n",
       "      <td>0</td>\n",
       "      <td>-1.271358</td>\n",
       "      <td>2.432063</td>\n",
       "      <td>2.111157</td>\n",
       "      <td>-2.181359</td>\n",
       "      <td>-11.154698</td>\n",
       "    </tr>\n",
       "    <tr>\n",
       "      <th>2</th>\n",
       "      <td>-2.832159</td>\n",
       "      <td>-0.878811</td>\n",
       "      <td>0.711685</td>\n",
       "      <td>0</td>\n",
       "      <td>-1.208363</td>\n",
       "      <td>2.282415</td>\n",
       "      <td>2.080159</td>\n",
       "      <td>-2.148557</td>\n",
       "      <td>-10.749419</td>\n",
       "    </tr>\n",
       "    <tr>\n",
       "      <th>3</th>\n",
       "      <td>-2.832139</td>\n",
       "      <td>-0.810828</td>\n",
       "      <td>0.502127</td>\n",
       "      <td>0</td>\n",
       "      <td>-1.221684</td>\n",
       "      <td>2.319156</td>\n",
       "      <td>2.085422</td>\n",
       "      <td>-2.154826</td>\n",
       "      <td>-10.839140</td>\n",
       "    </tr>\n",
       "    <tr>\n",
       "      <th>4</th>\n",
       "      <td>-2.832115</td>\n",
       "      <td>-0.742844</td>\n",
       "      <td>0.458885</td>\n",
       "      <td>0</td>\n",
       "      <td>-1.201099</td>\n",
       "      <td>2.265702</td>\n",
       "      <td>2.083145</td>\n",
       "      <td>-2.149527</td>\n",
       "      <td>-10.727961</td>\n",
       "    </tr>\n",
       "  </tbody>\n",
       "</table>\n",
       "</div>"
      ],
      "text/plain": [
       "       time  latitude  longitude  instrument     deep0     deep1     deep2  \\\n",
       "0 -2.832190 -1.110975   1.167391           0 -1.263606  2.414915  2.106735   \n",
       "1 -2.832180 -0.912803   0.576045           0 -1.271358  2.432063  2.111157   \n",
       "2 -2.832159 -0.878811   0.711685           0 -1.208363  2.282415  2.080159   \n",
       "3 -2.832139 -0.810828   0.502127           0 -1.221684  2.319156  2.085422   \n",
       "4 -2.832115 -0.742844   0.458885           0 -1.201099  2.265702  2.083145   \n",
       "\n",
       "      deep3      deep4  \n",
       "0 -2.174347 -11.102189  \n",
       "1 -2.181359 -11.154698  \n",
       "2 -2.148557 -10.749419  \n",
       "3 -2.154826 -10.839140  \n",
       "4 -2.149527 -10.727961  "
      ]
     },
     "execution_count": 27,
     "metadata": {},
     "output_type": "execute_result"
    }
   ],
   "source": [
    "newdata.head(5)"
   ]
  },
  {
   "cell_type": "markdown",
   "metadata": {},
   "source": [
    "###  创建数据集和模型\n",
    "> 通过上面的处理，就有了成形的数据，下面就是创建数据集和模型，然后进行选择"
   ]
  },
  {
   "cell_type": "code",
   "execution_count": 47,
   "metadata": {},
   "outputs": [
    {
     "name": "stdout",
     "output_type": "stream",
     "text": [
      "(22902, 9)\n",
      "(22902,)\n",
      "1    22620\n",
      "0      282\n",
      "Name: label, dtype: int64\n",
      "[19981 20192 14712 ... 16155   864 11307] [10120 22778  5491 ...  8580 12656  9331]\n"
     ]
    }
   ],
   "source": [
    "\"\"\"获取数据集，并且分出测试集\"\"\"\n",
    "X = newdata.copy().values\n",
    "Y = data['label'].values\n",
    "\n",
    "print(X.shape)\n",
    "print(Y.shape)\n",
    "print(data['label'].value_counts())\n",
    "\n",
    "\"\"\"由于不匹配，所有分割数据集的时候采用层次抽样的方式\"\"\"\n",
    "ss = StratifiedShuffleSplit(n_splits=1, test_size=0.2, random_state=7)\n",
    "\n",
    "for train_index, test_index in ss.split(X, Y):\n",
    "    print(train_index, test_index)\n",
    "    train_set_x = X[train_index]\n",
    "    train_set_y = Y[train_index]\n",
    "    test_set_x = X[test_index]\n",
    "    test_set_y = Y[test_index]"
   ]
  },
  {
   "cell_type": "code",
   "execution_count": 48,
   "metadata": {},
   "outputs": [
    {
     "name": "stdout",
     "output_type": "stream",
     "text": [
      "(18321, 9)\n",
      "(18321,)\n",
      "(4581, 9)\n",
      "(4581,)\n"
     ]
    }
   ],
   "source": [
    "print(train_set_x.shape)\n",
    "print(train_set_y.shape)\n",
    "print(test_set_x.shape)\n",
    "print(test_set_y.shape)"
   ]
  },
  {
   "cell_type": "code",
   "execution_count": 49,
   "metadata": {
    "scrolled": true
   },
   "outputs": [
    {
     "name": "stdout",
     "output_type": "stream",
     "text": [
      "KNN: 0.989 (0.002)\n",
      "CART: 0.982 (0.004)\n",
      "SVM: 0.988 (0.003)\n",
      "NB: 0.961 (0.006)\n",
      "Ada: 0.988 (0.003)\n",
      "Xgb: 0.989 (0.003)\n"
     ]
    },
    {
     "data": {
      "image/png": "[encoded data removed]",
      "text/plain": [
       "<Figure size 432x288 with 1 Axes>"
      ]
     },
     "metadata": {
      "needs_background": "light"
     },
     "output_type": "display_data"
    }
   ],
   "source": [
    "\"\"\"创建各种模型\"\"\"\n",
    "num_folds = 10\n",
    "seed = 7\n",
    "\n",
    "kfold = KFold(n_splits=num_folds, random_state=seed)\n",
    "models = {}\n",
    "# models['LR'] = LogisticRegression()\n",
    "models['KNN'] = KNeighborsClassifier()\n",
    "models['CART'] = DecisionTreeClassifier()\n",
    "models['SVM'] = SVC()\n",
    "models['NB'] = GaussianNB()\n",
    "models['Ada'] = AdaBoostClassifier()\n",
    "# models['Xgb'] = XGBClassifier(learning_rate=0.1,\n",
    "#                               n_estimators=1000,         # 树的个数--1000棵树建立xgboostmax_depth=6,              \n",
    "#                               max_depth=6,               # 树的深度\n",
    "#                               min_child_weight = 1,      # 叶子节点最小权重\n",
    "#                               gamma=0.,                  # 惩罚项中叶子结点个数前的参数\n",
    "#                               subsample=0.8,             # 随机选择80%样本建立决策树\n",
    "#                               colsample_btree=0.8,       # 随机选择80%特征建立决策树\n",
    "#                               scale_pos_weight=1,        # 解决样本个数不平衡的问题\n",
    "#                               random_state=27            # 随机数)\n",
    "#                              )\n",
    "models['Xgb'] = XGBClassifier()\n",
    "results = []\n",
    "\n",
    "for name in models:\n",
    "    result = cross_val_score(models[name], train_set_x, train_set_y, cv=kfold)\n",
    "    results.append(result)\n",
    "    msg = ('%s: %.3f (%.3f)' % (name, result.mean(), result.std()))\n",
    "    print(msg)\n",
    "    \n",
    "# 图表展示\n",
    "fig = plt.figure()\n",
    "fig.suptitle('Algorithm Comparison')\n",
    "ax = fig.add_subplot(111)\n",
    "plt.boxplot(results)\n",
    "ax.set_xticklabels(models.keys())\n",
    "plt.show()    "
   ]
  },
  {
   "cell_type": "code",
   "execution_count": 35,
   "metadata": {},
   "outputs": [
    {
     "name": "stdout",
     "output_type": "stream",
     "text": [
      "最优: 0.9887560722667976 使用 {'n_neighbors': 7}\n",
      "0.985809 (0.001923) with {'n_neighbors': 1}\n",
      "0.988101 (0.001757) with {'n_neighbors': 3}\n",
      "0.987937 (0.002149) with {'n_neighbors': 5}\n",
      "0.988756 (0.002468) with {'n_neighbors': 7}\n",
      "0.988319 (0.002643) with {'n_neighbors': 9}\n",
      "0.988483 (0.002862) with {'n_neighbors': 11}\n",
      "0.988538 (0.002762) with {'n_neighbors': 13}\n",
      "0.988592 (0.002810) with {'n_neighbors': 15}\n",
      "0.988592 (0.002810) with {'n_neighbors': 17}\n",
      "0.988592 (0.002810) with {'n_neighbors': 19}\n",
      "0.988265 (0.002860) with {'n_neighbors': 21}\n"
     ]
    }
   ],
   "source": [
    "\"\"\"优化模型 - KNN调参\"\"\"\n",
    "# 调参改进算法 --- KNN\n",
    "param_grid = {'n_neighbors': [1, 3, 5, 7, 9, 11, 13, 15, 17, 19, 21]}\n",
    "model = KNeighborsClassifier()\n",
    "kfold = KFold(n_splits=num_folds, random_state=seed)\n",
    "grid = GridSearchCV(estimator=model, param_grid=param_grid, scoring='accuracy', cv=kfold)\n",
    "grid_result = grid.fit(X=train_set_x, y=train_set_y)\n",
    "\n",
    "print('最优: %s 使用 %s' % (grid_result.best_score_, grid_result.best_params_))\n",
    "cv_results = zip(grid_result.cv_results_['mean_test_score'], grid_result.cv_results_['std_test_score'], grid_result.cv_results_['params'])\n",
    "\n",
    "for mean, std, param in cv_results:\n",
    "    print('%f (%f) with %r' % (mean, std, param)) "
   ]
  },
  {
   "cell_type": "code",
   "execution_count": null,
   "metadata": {},
   "outputs": [],
   "source": [
    "\"\"\"优化模型 - SVM调参\"\"\"\n",
    "# 支持向量机有两个重要的参数：  C（惩罚系数）默认1.0 和kernel（径向基函数） 默认rbf\n",
    "param_grid = {}\n",
    "param_grid['C'] = [0.1, 0.3, 0.5, 0.7, 0.9, 1.0, 1.3, 1.5, 1.7, 2.0]\n",
    "param_grid['kernel'] = ['linear', 'poly', 'rbf', 'sigmoid']\n",
    "# 注意： 这里的kernel参数不要有precomputed  , 否则会报错\n",
    "\"\"\"\n",
    "ValueError: X should be a square kernel matrix\n",
    "\n",
    "    解决：从参数空间中删除“预先计算”.\n",
    "        kernel =’precomputed’只能在传递表示样本的成对相似性的(n_samples,n_samples)数据矩阵时使用,\n",
    "        而不是传统的(n_samples,n_features)矩形数据矩阵.\n",
    "\"\"\"\n",
    "\n",
    "model = SVC()\n",
    "kfold = KFold(n_splits=num_folds, random_state=seed)\n",
    "grid = GridSearchCV(estimator=model, param_grid=param_grid, scoring='accuracy', cv=kfold)\n",
    "grid_result = grid.fit(X=train_set_x, y=train_set_y)\n",
    "\n",
    "print('最优： %s 使用 %s' % (grid_result.best_score_, grid_result.best_params_))\n",
    "cv_results = zip(grid_result.cv_results_['mean_test_score'], grid_result.cv_results_['std_test_score'], grid_result.cv_results_['params'])\n",
    "for mean, std, param in cv_results:\n",
    "    print('%f (%f) with %r' % (mean, std, param))"
   ]
  },
  {
   "cell_type": "code",
   "execution_count": 23,
   "metadata": {},
   "outputs": [
    {
     "name": "stdout",
     "output_type": "stream",
     "text": [
      "最优： 0.9883739970525627 使用 {'n_estimators': 10}\n",
      "0.988374 (0.002827) with {'n_estimators': 10}\n",
      "0.988319 (0.002870) with {'n_estimators': 50}\n",
      "0.988101 (0.002835) with {'n_estimators': 100}\n",
      "0.987992 (0.002675) with {'n_estimators': 200}\n",
      "0.987937 (0.002385) with {'n_estimators': 300}\n",
      "0.987992 (0.002303) with {'n_estimators': 400}\n",
      "0.987774 (0.002492) with {'n_estimators': 500}\n",
      "0.987664 (0.002655) with {'n_estimators': 600}\n",
      "0.987664 (0.003042) with {'n_estimators': 700}\n",
      "0.987774 (0.002786) with {'n_estimators': 800}\n",
      "0.987774 (0.002586) with {'n_estimators': 900}\n"
     ]
    }
   ],
   "source": [
    "\"\"\"AdaBoost调参\"\"\"\n",
    "param_grid = {'n_estimators': [10, 50, 100, 200, 300, 400, 500, 600, 700, 800, 900]}\n",
    "\n",
    "model = AdaBoostClassifier()\n",
    "kfold = KFold(n_splits=num_folds, random_state=seed)\n",
    "grid = GridSearchCV(estimator=model, param_grid=param_grid, scoring='accuracy', cv=kfold)\n",
    "grid_result = grid.fit(X=train_set_x, y=train_set_y)\n",
    "\n",
    "print('最优： %s 使用 %s' % (grid_result.best_score_, grid_result.best_params_))\n",
    "\n",
    "cv_results = zip(grid_result.cv_results_['mean_test_score'], grid_result.cv_results_['std_test_score'], grid_result.cv_results_['params'])\n",
    "for mean, std, param in cv_results:\n",
    "    print('%f (%f) with %r' % (mean, std, param))"
   ]
  },
  {
   "cell_type": "markdown",
   "metadata": {},
   "source": [
    "###  确定最终的模型"
   ]
  },
  {
   "cell_type": "code",
   "execution_count": 54,
   "metadata": {},
   "outputs": [
    {
     "name": "stdout",
     "output_type": "stream",
     "text": [
      "accuracy_score\n",
      " 0.9884304736956996\n",
      "\n",
      "confusion_matrix\n",
      "    0     1\n",
      "0  9    47\n",
      "1  6  4519\n",
      "\n",
      "classification_report\n",
      "               precision    recall  f1-score   support\n",
      "\n",
      "           0       0.60      0.16      0.25        56\n",
      "           1       0.99      1.00      0.99      4525\n",
      "\n",
      "    accuracy                           0.99      4581\n",
      "   macro avg       0.79      0.58      0.62      4581\n",
      "weighted avg       0.98      0.99      0.99      4581\n",
      "\n"
     ]
    }
   ],
   "source": [
    "# model =XGBClassifier(learning_rate=0.1,\n",
    "#                      n_estimators=1000,         # 树的个数--1000棵树建立xgboostmax_depth=6,              \n",
    "#                      max_depth=6,               # 树的深度\n",
    "#                      min_child_weight = 1,      # 叶子节点最小权重\n",
    "#                      gamma=0.,                  # 惩罚项中叶子结点个数前的参数\n",
    "#                      subsample=0.8,             # 随机选择80%样本建立决策树\n",
    "#                      colsample_btree=0.8,       # 随机选择80%特征建立决策树\n",
    "#                      scale_pos_weight=1,        # 解决样本个数不平衡的问题\n",
    "#                      random_state=27            # 随机数)\n",
    "#                     )\n",
    "\n",
    "#model = AdaBoostClassifier(n_estimators=10)\n",
    "model = KNeighborsClassifier(n_neighbors=7)\n",
    "#model = XGBClassifier()\n",
    "\n",
    "model.fit(X=train_set_x, y=train_set_y)\n",
    "\n",
    "# 评估模型\n",
    "predictions = model.predict(test_set_x)\n",
    "print(\"accuracy_score\\n\",accuracy_score(test_set_y, predictions))\n",
    "print(\"\\nconfusion_matrix\\n\", pd.DataFrame(confusion_matrix(test_set_y, predictions),columns=np.unique(test_set_y), index=np.unique(test_set_y)))\n",
    "print(\"\\nclassification_report\\n\", classification_report(test_set_y, predictions))"
   ]
  }
 ],
 "metadata": {
  "kernelspec": {
   "display_name": "Python 3",
   "language": "python",
   "name": "python3"
  },
  "language_info": {
   "codemirror_mode": {
    "name": "ipython",
    "version": 3
   },
   "file_extension": ".py",
   "mimetype": "text/x-python",
   "name": "python",
   "nbconvert_exporter": "python",
   "pygments_lexer": "ipython3",
   "version": "3.6.8"
  }
 },
 "nbformat": 4,
 "nbformat_minor": 2
}
