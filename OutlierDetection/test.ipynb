{
 "cells": [
  {
   "cell_type": "code",
   "execution_count": 9,
   "metadata": {},
   "outputs": [],
   "source": [
    "\n",
    "import numpy as np"
   ]
  },
  {
   "cell_type": "code",
   "execution_count": 31,
   "metadata": {},
   "outputs": [
    {
     "name": "stdout",
     "output_type": "stream",
     "text": [
      "<class 'list'>\n",
      "[['2', '195.0', '22.830', '3', '999.999', '9'], ['2', '198.0', '19.870', '3', '999.999', '9']]\n"
     ]
    }
   ],
   "source": [
    "\n",
    "key_sample = []\n",
    "print(type(key_sample))\n",
    "with open('origdata/1968.txt', 'r') as f:\n",
    "    line = f.readline()\n",
    "    while line:\n",
    "        line = f.readline()\n",
    "        line_split = line.strip().split(' ')\n",
    "        if line_split[0] == '2':\n",
    "            if (line_split[3]=='2' or line_split[3]=='3' or line_split[3]=='4'):\n",
    "                key_sample.append(line_split)\n",
    "            if (line_split[5]=='2' or line_split[5]=='3' or line_split[5]=='4'):\n",
    "                key_sample.append(line_split)\n",
    "print(key_sample)"
   ]
  }
 ],
 "metadata": {
  "kernelspec": {
   "display_name": "Python 3",
   "language": "python",
   "name": "python3"
  },
  "language_info": {
   "codemirror_mode": {
    "name": "ipython",
    "version": 3
   },
   "file_extension": ".py",
   "mimetype": "text/x-python",
   "name": "python",
   "nbconvert_exporter": "python",
   "pygments_lexer": "ipython3",
   "version": "3.6.8"
  }
 },
 "nbformat": 4,
 "nbformat_minor": 2
}
