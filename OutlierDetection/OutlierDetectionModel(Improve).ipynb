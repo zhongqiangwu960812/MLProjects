{
 "cells": [
  {
   "cell_type": "markdown",
   "metadata": {},
   "source": [
    "### Description：\n",
    "> 在上一个版本的基础上，想做一些改进：\n",
    ">> 从上面的模型中的结果可以发现，XGB的效果比较好，首先，再回忆一遍处理过程：\n",
    ">>> * 获取数据集，我已经通过预处理保存到了data1.csv里面\n",
    ">>> * 切割出要压缩的特征进行自编码压缩\n",
    ">>> * 然后合并数据，并进行标准化\n",
    ">>> * 按照机器学习的步骤进行训练，测试\n",
    ">>\n",
    "> 结果发现，XGB能把所有的正确样本识别出来，但是错误的样本也就是异常的样本识别效果不理想，猜测的可能原因有如下几个：\n",
    ">> * 1. 数据不平衡问题，正样本是与负样本的比例是100：1，这可能导致模型没法学习到有用的异常样本的特征\n",
    ">> * 2. 自编码压缩那块， 由于没有压缩特征之前是2929维， 压缩成了5维的深度，并且由于机器的问题，迭代训练的次数太少，损失还没有降下来，导致可能很多有用特征的信息损失掉了\n",
    ">\n",
    ">所以，在这个笔记本中，尝试改进：\n",
    ">> * 首先是数据不平衡问题， 尝试采用过采样的方式，增加负样本的个数，采用直接复制，然后组合成一个样本集，再随机打乱。\n",
    ">> * 至于自编码压缩那块，先不动，因为电脑跑不动目前。"
   ]
  },
  {
   "cell_type": "code",
   "execution_count": 1,
   "metadata": {},
   "outputs": [
    {
     "name": "stderr",
     "output_type": "stream",
     "text": [
      "Using TensorFlow backend.\n"
     ]
    }
   ],
   "source": [
    "\"\"\"导入包\"\"\"\n",
    "import numpy as np\n",
    "import pandas as pd\n",
    "from sklearn.utils import shuffle      # 随机打乱dataframe的行排序\n",
    "\n",
    "from keras.models import Model #泛型模型\n",
    "from keras.layers import Dense, Input\n",
    "import matplotlib.pyplot as plt\n",
    "\n",
    "from sklearn import preprocessing\n",
    "from sklearn.preprocessing import StandardScaler\n",
    "\n",
    "# 模型选择\n",
    "from sklearn.model_selection import KFold\n",
    "from sklearn.model_selection import cross_val_score\n",
    "from sklearn.model_selection import StratifiedShuffleSplit\n",
    "from sklearn.model_selection import GridSearchCV\n",
    "\n",
    "# 模型\n",
    "from sklearn.linear_model import LogisticRegression\n",
    "from sklearn.neighbors import KNeighborsClassifier\n",
    "from sklearn.tree import DecisionTreeClassifier\n",
    "from sklearn.svm import SVC\n",
    "from sklearn.naive_bayes import GaussianNB\n",
    "from sklearn.ensemble import AdaBoostClassifier\n",
    "from xgboost import XGBClassifier\n",
    "\n",
    "# 模型度量函数\n",
    "from sklearn.metrics import classification_report\n",
    "from sklearn.metrics import confusion_matrix\n",
    "from sklearn.metrics import accuracy_score\n",
    "\n",
    "import warnings\n",
    "warnings.filterwarnings('ignore')"
   ]
  },
  {
   "cell_type": "code",
   "execution_count": 2,
   "metadata": {},
   "outputs": [],
   "source": [
    "\"\"\"导入数据\"\"\"\n",
    "data = pd.read_csv(\"data1.csv\")"
   ]
  },
  {
   "cell_type": "code",
   "execution_count": 3,
   "metadata": {},
   "outputs": [
    {
     "name": "stdout",
     "output_type": "stream",
     "text": [
      "(22902, 2929)\n"
     ]
    },
    {
     "data": {
      "text/html": [
       "<div>\n",
       "<style scoped>\n",
       "    .dataframe tbody tr th:only-of-type {\n",
       "        vertical-align: middle;\n",
       "    }\n",
       "\n",
       "    .dataframe tbody tr th {\n",
       "        vertical-align: top;\n",
       "    }\n",
       "\n",
       "    .dataframe thead th {\n",
       "        text-align: right;\n",
       "    }\n",
       "</style>\n",
       "<table border=\"1\" class=\"dataframe\">\n",
       "  <thead>\n",
       "    <tr style=\"text-align: right;\">\n",
       "      <th></th>\n",
       "      <th>time</th>\n",
       "      <th>latitude</th>\n",
       "      <th>longitude</th>\n",
       "      <th>instrument</th>\n",
       "      <th>temperature0.0</th>\n",
       "      <th>temperature20.0</th>\n",
       "      <th>temperature250.0</th>\n",
       "      <th>temperature70.0</th>\n",
       "      <th>temperature140.0</th>\n",
       "      <th>temperature155.0</th>\n",
       "      <th>...</th>\n",
       "      <th>salinity1516.0</th>\n",
       "      <th>temperature1036.0</th>\n",
       "      <th>salinity1036.0</th>\n",
       "      <th>temperature863.0</th>\n",
       "      <th>salinity863.0</th>\n",
       "      <th>temperature943.0</th>\n",
       "      <th>salinity943.0</th>\n",
       "      <th>temperature967.0</th>\n",
       "      <th>salinity967.0</th>\n",
       "      <th>label</th>\n",
       "    </tr>\n",
       "  </thead>\n",
       "  <tbody>\n",
       "    <tr>\n",
       "      <th>0</th>\n",
       "      <td>23806.38</td>\n",
       "      <td>1.200</td>\n",
       "      <td>139.100</td>\n",
       "      <td>1</td>\n",
       "      <td>29.9</td>\n",
       "      <td>30.0</td>\n",
       "      <td>0.0</td>\n",
       "      <td>28.8</td>\n",
       "      <td>0.0</td>\n",
       "      <td>0.0</td>\n",
       "      <td>...</td>\n",
       "      <td>0.0</td>\n",
       "      <td>0.0</td>\n",
       "      <td>0.0</td>\n",
       "      <td>0.0</td>\n",
       "      <td>0.0</td>\n",
       "      <td>0.0</td>\n",
       "      <td>0.0</td>\n",
       "      <td>0.0</td>\n",
       "      <td>0.0</td>\n",
       "      <td>1</td>\n",
       "    </tr>\n",
       "    <tr>\n",
       "      <th>1</th>\n",
       "      <td>23806.42</td>\n",
       "      <td>1.783</td>\n",
       "      <td>137.500</td>\n",
       "      <td>1</td>\n",
       "      <td>30.1</td>\n",
       "      <td>30.1</td>\n",
       "      <td>0.0</td>\n",
       "      <td>29.3</td>\n",
       "      <td>0.0</td>\n",
       "      <td>0.0</td>\n",
       "      <td>...</td>\n",
       "      <td>0.0</td>\n",
       "      <td>0.0</td>\n",
       "      <td>0.0</td>\n",
       "      <td>0.0</td>\n",
       "      <td>0.0</td>\n",
       "      <td>0.0</td>\n",
       "      <td>0.0</td>\n",
       "      <td>0.0</td>\n",
       "      <td>0.0</td>\n",
       "      <td>1</td>\n",
       "    </tr>\n",
       "    <tr>\n",
       "      <th>2</th>\n",
       "      <td>23806.50</td>\n",
       "      <td>1.883</td>\n",
       "      <td>137.867</td>\n",
       "      <td>1</td>\n",
       "      <td>28.9</td>\n",
       "      <td>28.9</td>\n",
       "      <td>0.0</td>\n",
       "      <td>27.3</td>\n",
       "      <td>0.0</td>\n",
       "      <td>0.0</td>\n",
       "      <td>...</td>\n",
       "      <td>0.0</td>\n",
       "      <td>0.0</td>\n",
       "      <td>0.0</td>\n",
       "      <td>0.0</td>\n",
       "      <td>0.0</td>\n",
       "      <td>0.0</td>\n",
       "      <td>0.0</td>\n",
       "      <td>0.0</td>\n",
       "      <td>0.0</td>\n",
       "      <td>1</td>\n",
       "    </tr>\n",
       "    <tr>\n",
       "      <th>3</th>\n",
       "      <td>23806.58</td>\n",
       "      <td>2.083</td>\n",
       "      <td>137.300</td>\n",
       "      <td>1</td>\n",
       "      <td>29.0</td>\n",
       "      <td>29.0</td>\n",
       "      <td>0.0</td>\n",
       "      <td>28.4</td>\n",
       "      <td>0.0</td>\n",
       "      <td>0.0</td>\n",
       "      <td>...</td>\n",
       "      <td>0.0</td>\n",
       "      <td>0.0</td>\n",
       "      <td>0.0</td>\n",
       "      <td>0.0</td>\n",
       "      <td>0.0</td>\n",
       "      <td>0.0</td>\n",
       "      <td>0.0</td>\n",
       "      <td>0.0</td>\n",
       "      <td>0.0</td>\n",
       "      <td>1</td>\n",
       "    </tr>\n",
       "    <tr>\n",
       "      <th>4</th>\n",
       "      <td>23806.67</td>\n",
       "      <td>2.283</td>\n",
       "      <td>137.183</td>\n",
       "      <td>1</td>\n",
       "      <td>28.9</td>\n",
       "      <td>28.9</td>\n",
       "      <td>0.0</td>\n",
       "      <td>26.7</td>\n",
       "      <td>0.0</td>\n",
       "      <td>0.0</td>\n",
       "      <td>...</td>\n",
       "      <td>0.0</td>\n",
       "      <td>0.0</td>\n",
       "      <td>0.0</td>\n",
       "      <td>0.0</td>\n",
       "      <td>0.0</td>\n",
       "      <td>0.0</td>\n",
       "      <td>0.0</td>\n",
       "      <td>0.0</td>\n",
       "      <td>0.0</td>\n",
       "      <td>1</td>\n",
       "    </tr>\n",
       "  </tbody>\n",
       "</table>\n",
       "<p>5 rows × 2929 columns</p>\n",
       "</div>"
      ],
      "text/plain": [
       "       time  latitude  longitude instrument  temperature0.0  temperature20.0  \\\n",
       "0  23806.38     1.200    139.100          1            29.9             30.0   \n",
       "1  23806.42     1.783    137.500          1            30.1             30.1   \n",
       "2  23806.50     1.883    137.867          1            28.9             28.9   \n",
       "3  23806.58     2.083    137.300          1            29.0             29.0   \n",
       "4  23806.67     2.283    137.183          1            28.9             28.9   \n",
       "\n",
       "   temperature250.0  temperature70.0  temperature140.0  temperature155.0  ...  \\\n",
       "0               0.0             28.8               0.0               0.0  ...   \n",
       "1               0.0             29.3               0.0               0.0  ...   \n",
       "2               0.0             27.3               0.0               0.0  ...   \n",
       "3               0.0             28.4               0.0               0.0  ...   \n",
       "4               0.0             26.7               0.0               0.0  ...   \n",
       "\n",
       "   salinity1516.0  temperature1036.0  salinity1036.0  temperature863.0  \\\n",
       "0             0.0                0.0             0.0               0.0   \n",
       "1             0.0                0.0             0.0               0.0   \n",
       "2             0.0                0.0             0.0               0.0   \n",
       "3             0.0                0.0             0.0               0.0   \n",
       "4             0.0                0.0             0.0               0.0   \n",
       "\n",
       "   salinity863.0  temperature943.0  salinity943.0  temperature967.0  \\\n",
       "0            0.0               0.0            0.0               0.0   \n",
       "1            0.0               0.0            0.0               0.0   \n",
       "2            0.0               0.0            0.0               0.0   \n",
       "3            0.0               0.0            0.0               0.0   \n",
       "4            0.0               0.0            0.0               0.0   \n",
       "\n",
       "   salinity967.0  label  \n",
       "0            0.0      1  \n",
       "1            0.0      1  \n",
       "2            0.0      1  \n",
       "3            0.0      1  \n",
       "4            0.0      1  \n",
       "\n",
       "[5 rows x 2929 columns]"
      ]
     },
     "execution_count": 3,
     "metadata": {},
     "output_type": "execute_result"
    }
   ],
   "source": [
    "\"\"\"处理缺失值，先采用简单的0填充\"\"\"\n",
    "data = data.fillna(0)\n",
    "\n",
    "# print(data.isnull().sum())\n",
    "print(data.shape)            \n",
    "data.head(5)"
   ]
  },
  {
   "cell_type": "code",
   "execution_count": 4,
   "metadata": {},
   "outputs": [
    {
     "name": "stdout",
     "output_type": "stream",
     "text": [
      "8    12840\n",
      "1     3347\n",
      "5     2395\n",
      "0     1670\n",
      "3     1654\n",
      "7      477\n",
      "2      372\n",
      "4      108\n",
      "9       34\n",
      "6        5\n",
      "Name: instrument, dtype: int64\n"
     ]
    }
   ],
   "source": [
    "#### \"\"\"查看一下数据类型，把instrument转换成LabelEncoder编码\"\"\"\n",
    "# print(data.dtypes)\n",
    "tran = data['instrument']\n",
    "tran = tran.astype(np.string_)\n",
    "data['instrument'] = tran\n",
    "\n",
    "le = preprocessing.LabelEncoder()\n",
    "le.fit(data['instrument'].unique())\n",
    "data['instrument'] = le.transform(data['instrument'])\n",
    "# print(data['instrument'])\n",
    "print(data['instrument'].value_counts())"
   ]
  },
  {
   "cell_type": "code",
   "execution_count": 5,
   "metadata": {},
   "outputs": [
    {
     "name": "stdout",
     "output_type": "stream",
     "text": [
      "正负样本的个数：\n",
      "1    22620\n",
      "0      282\n",
      "Name: label, dtype: int64\n",
      "(22620, 2929)\n",
      "(282, 2929)\n",
      "(17202, 2929)\n"
     ]
    }
   ],
   "source": [
    "\"\"\"在这块先解决一下数据严重不平衡问题\"\"\"\n",
    "# 查看一下data[label]，看一下正负样本的比列\n",
    "print(\"正负样本的个数：\")\n",
    "print(data['label'].value_counts())   \n",
    "\n",
    "# 尝试重新增加负样本的个数，然后重新组合data\n",
    "trueSample = data[data['label'] == 1]\n",
    "falseSample = data[data['label'] == 0]\n",
    "\n",
    "print(trueSample.shape)\n",
    "print(falseSample.shape)\n",
    "\n",
    "temp = falseSample.copy()\n",
    "for i in range(60):\n",
    "    falseSample = pd.concat([falseSample, temp], axis=0)\n",
    "\n",
    "print(falseSample.shape)"
   ]
  },
  {
   "cell_type": "code",
   "execution_count": 6,
   "metadata": {},
   "outputs": [
    {
     "name": "stdout",
     "output_type": "stream",
     "text": [
      "(39822, 2929)\n"
     ]
    },
    {
     "data": {
      "text/plain": [
       "1    22620\n",
       "0    17202\n",
       "Name: label, dtype: int64"
      ]
     },
     "execution_count": 6,
     "metadata": {},
     "output_type": "execute_result"
    }
   ],
   "source": [
    "data = pd.concat([trueSample, falseSample], axis=0)\n",
    "data = shuffle(data)\n",
    "print(data.shape)\n",
    "data['label'].value_counts()"
   ]
  },
  {
   "cell_type": "code",
   "execution_count": 7,
   "metadata": {},
   "outputs": [],
   "source": [
    "\"\"\"查看data的数据类型，并且要进行编码器和解码器压缩特征\"\"\"\n",
    "data.dtypes\n",
    "data.head(5)\n",
    "\n",
    "# 提取出sub_data，保存需哟啊的特征\n",
    "sub_data = data.iloc[:, 0:4].copy()\n",
    "sub_data = pd.concat([sub_data, data['label']], axis=1)\n",
    "# 获取需要压缩的列\n",
    "deep = data.iloc[:, 4:-1].copy()"
   ]
  },
  {
   "cell_type": "code",
   "execution_count": 8,
   "metadata": {},
   "outputs": [
    {
     "name": "stdout",
     "output_type": "stream",
     "text": [
      "(39822, 2924)\n"
     ]
    }
   ],
   "source": [
    "value = deep.values\n",
    "print(value.shape)"
   ]
  },
  {
   "cell_type": "code",
   "execution_count": 9,
   "metadata": {},
   "outputs": [],
   "source": [
    "\"\"\"把数据进行标准化\"\"\"\n",
    "scaler = StandardScaler()\n",
    "values = scaler.fit_transform(value)"
   ]
  },
  {
   "cell_type": "code",
   "execution_count": 10,
   "metadata": {},
   "outputs": [
    {
     "name": "stdout",
     "output_type": "stream",
     "text": [
      "Epoch 1/50\n",
      "39822/39822 [==============================] - 10s 254us/step - loss: 0.8463\n",
      "Epoch 2/50\n",
      "39822/39822 [==============================] - 10s 245us/step - loss: 0.7994\n",
      "Epoch 3/50\n",
      "39822/39822 [==============================] - 9s 238us/step - loss: 0.7898\n",
      "Epoch 4/50\n",
      "39822/39822 [==============================] - 9s 232us/step - loss: 0.7834\n",
      "Epoch 5/50\n",
      "39822/39822 [==============================] - 9s 232us/step - loss: 0.7816\n",
      "Epoch 6/50\n",
      "39822/39822 [==============================] - 9s 230us/step - loss: 0.7800\n",
      "Epoch 7/50\n",
      "39822/39822 [==============================] - 9s 232us/step - loss: 0.7786\n",
      "Epoch 8/50\n",
      "39822/39822 [==============================] - 9s 230us/step - loss: 0.7773\n",
      "Epoch 9/50\n",
      "39822/39822 [==============================] - 9s 232us/step - loss: 0.7760\n",
      "Epoch 10/50\n",
      "39822/39822 [==============================] - 9s 233us/step - loss: 0.7765\n",
      "Epoch 11/50\n",
      "39822/39822 [==============================] - 9s 233us/step - loss: 0.7755\n",
      "Epoch 12/50\n",
      "39822/39822 [==============================] - 9s 229us/step - loss: 0.7750\n",
      "Epoch 13/50\n",
      "39822/39822 [==============================] - 9s 230us/step - loss: 0.7744\n",
      "Epoch 14/50\n",
      "39822/39822 [==============================] - 9s 228us/step - loss: 0.7742\n",
      "Epoch 15/50\n",
      "39822/39822 [==============================] - 9s 229us/step - loss: 0.7738\n",
      "Epoch 16/50\n",
      "39822/39822 [==============================] - 9s 231us/step - loss: 0.7735\n",
      "Epoch 17/50\n",
      "39822/39822 [==============================] - 9s 230us/step - loss: 0.7732\n",
      "Epoch 18/50\n",
      "39822/39822 [==============================] - 9s 235us/step - loss: 0.7729\n",
      "Epoch 19/50\n",
      "39822/39822 [==============================] - 9s 231us/step - loss: 0.7726\n",
      "Epoch 20/50\n",
      "39822/39822 [==============================] - 9s 230us/step - loss: 0.7725\n",
      "Epoch 21/50\n",
      "39822/39822 [==============================] - 9s 230us/step - loss: 0.7721\n",
      "Epoch 22/50\n",
      "39822/39822 [==============================] - 9s 224us/step - loss: 0.7720\n",
      "Epoch 23/50\n",
      "39822/39822 [==============================] - 9s 231us/step - loss: 0.7719\n",
      "Epoch 24/50\n",
      "39822/39822 [==============================] - 9s 225us/step - loss: 0.7714\n",
      "Epoch 25/50\n",
      "39822/39822 [==============================] - 9s 225us/step - loss: 0.7713\n",
      "Epoch 26/50\n",
      "39822/39822 [==============================] - 9s 228us/step - loss: 0.7711\n",
      "Epoch 27/50\n",
      "39822/39822 [==============================] - 9s 231us/step - loss: 0.7710\n",
      "Epoch 28/50\n",
      "39822/39822 [==============================] - 9s 226us/step - loss: 0.7708\n",
      "Epoch 29/50\n",
      "39822/39822 [==============================] - 9s 230us/step - loss: 0.7724\n",
      "Epoch 30/50\n",
      "39822/39822 [==============================] - 9s 232us/step - loss: 0.7709\n",
      "Epoch 31/50\n",
      "39822/39822 [==============================] - 9s 229us/step - loss: 0.7755\n",
      "Epoch 32/50\n",
      "39822/39822 [==============================] - 9s 224us/step - loss: 0.7724\n",
      "Epoch 33/50\n",
      "39822/39822 [==============================] - 9s 226us/step - loss: 0.7711\n",
      "Epoch 34/50\n",
      "39822/39822 [==============================] - 9s 225us/step - loss: 0.7781\n",
      "Epoch 35/50\n",
      "39822/39822 [==============================] - 9s 225us/step - loss: 0.7731\n",
      "Epoch 36/50\n",
      "39822/39822 [==============================] - 9s 229us/step - loss: 0.7726\n",
      "Epoch 37/50\n",
      "39822/39822 [==============================] - 9s 234us/step - loss: 0.7720\n",
      "Epoch 38/50\n",
      "39822/39822 [==============================] - 9s 232us/step - loss: 0.7717\n",
      "Epoch 39/50\n",
      "39822/39822 [==============================] - 9s 229us/step - loss: 0.7715\n",
      "Epoch 40/50\n",
      "39822/39822 [==============================] - 9s 232us/step - loss: 0.7706\n",
      "Epoch 41/50\n",
      "39822/39822 [==============================] - 9s 228us/step - loss: 0.7690\n",
      "Epoch 42/50\n",
      "39822/39822 [==============================] - 8s 210us/step - loss: 0.7690\n",
      "Epoch 43/50\n",
      "39822/39822 [==============================] - 9s 233us/step - loss: 0.7692 0s - loss:\n",
      "Epoch 44/50\n",
      "39822/39822 [==============================] - 9s 234us/step - loss: 0.7683\n",
      "Epoch 45/50\n",
      "39822/39822 [==============================] - 9s 232us/step - loss: 0.7682\n",
      "Epoch 46/50\n",
      "39822/39822 [==============================] - 9s 233us/step - loss: 0.7680\n",
      "Epoch 47/50\n",
      "39822/39822 [==============================] - 9s 232us/step - loss: 0.7679\n",
      "Epoch 48/50\n",
      "39822/39822 [==============================] - 9s 230us/step - loss: 0.7679\n",
      "Epoch 49/50\n",
      "39822/39822 [==============================] - 9s 229us/step - loss: 0.7678\n",
      "Epoch 50/50\n",
      "39822/39822 [==============================] - 9s 232us/step - loss: 0.7676\n"
     ]
    },
    {
     "data": {
      "text/plain": [
       "<keras.callbacks.History at 0x14c4e772f28>"
      ]
     },
     "execution_count": 10,
     "metadata": {},
     "output_type": "execute_result"
    }
   ],
   "source": [
    "\"\"\"自编码器模型\"\"\"\n",
    "\n",
    "# 压缩特征维度至2维\n",
    "encoding_dim = 5\n",
    " \n",
    "# this is our input placeholder\n",
    "input_data = Input(shape=(2924,))\n",
    " \n",
    "# 编码层\n",
    "encoded = Dense(128, activation='relu')(input_data)\n",
    "encoded = Dense(64, activation='relu')(encoded)\n",
    "encoded = Dense(10, activation='relu')(encoded)\n",
    "encoder_output = Dense(encoding_dim)(encoded)\n",
    " \n",
    "# 解码层\n",
    "decoded = Dense(10, activation='relu')(encoder_output)\n",
    "decoded = Dense(64, activation='relu')(decoded)\n",
    "decoded = Dense(128, activation='relu')(decoded)\n",
    "decoded = Dense(2924, activation='tanh')(decoded)\n",
    " \n",
    "# 构建自编码模型\n",
    "autoencoder = Model(inputs=input_data, outputs=decoded)\n",
    " \n",
    "# 构建编码模型\n",
    "encoder = Model(inputs=input_data, outputs=encoder_output)\n",
    " \n",
    "# compile autoencoder\n",
    "autoencoder.compile(optimizer='adam', loss='mse')\n",
    " \n",
    "# training\n",
    "autoencoder.fit(values, values, epochs=50, batch_size=256, shuffle=True)\n"
   ]
  },
  {
   "cell_type": "code",
   "execution_count": 11,
   "metadata": {},
   "outputs": [
    {
     "name": "stdout",
     "output_type": "stream",
     "text": [
      "(39822, 5)\n"
     ]
    }
   ],
   "source": [
    "# plotting\n",
    "encoded_data = encoder.predict(values)\n",
    "print(encoded_data.shape)"
   ]
  },
  {
   "cell_type": "code",
   "execution_count": 12,
   "metadata": {},
   "outputs": [
    {
     "name": "stdout",
     "output_type": "stream",
     "text": [
      "(39822, 5)\n",
      "(39822, 5)\n"
     ]
    }
   ],
   "source": [
    "# new_feature_data = pd.DataFrame(encoded_data, columns = ['deep1', 'deep2'])\n",
    "sub_data1 = pd.DataFrame(encoded_data, columns=['deep'+ str(i) for i in range(encoding_dim)])\n",
    "print(sub_data1.shape)\n",
    "\n",
    "print(sub_data.shape)"
   ]
  },
  {
   "cell_type": "code",
   "execution_count": 13,
   "metadata": {},
   "outputs": [
    {
     "name": "stdout",
     "output_type": "stream",
     "text": [
      "(39822, 10)\n"
     ]
    }
   ],
   "source": [
    "\"\"\"下面进行数据的合并\"\"\"\n",
    "sub_data = sub_data.reset_index(drop= True)\n",
    "sub_data1 = sub_data1.reset_index(drop= True)        # 由于之前随机打乱了行数据，需要进行索引重建才可以后面的合并列\n",
    "\n",
    "newdata = pd.concat([sub_data, sub_data1], axis=1)\n",
    "print(newdata.shape)"
   ]
  },
  {
   "cell_type": "code",
   "execution_count": 14,
   "metadata": {},
   "outputs": [
    {
     "data": {
      "text/html": [
       "<div>\n",
       "<style scoped>\n",
       "    .dataframe tbody tr th:only-of-type {\n",
       "        vertical-align: middle;\n",
       "    }\n",
       "\n",
       "    .dataframe tbody tr th {\n",
       "        vertical-align: top;\n",
       "    }\n",
       "\n",
       "    .dataframe thead th {\n",
       "        text-align: right;\n",
       "    }\n",
       "</style>\n",
       "<table border=\"1\" class=\"dataframe\">\n",
       "  <thead>\n",
       "    <tr style=\"text-align: right;\">\n",
       "      <th></th>\n",
       "      <th>time</th>\n",
       "      <th>latitude</th>\n",
       "      <th>longitude</th>\n",
       "      <th>instrument</th>\n",
       "      <th>label</th>\n",
       "      <th>deep0</th>\n",
       "      <th>deep1</th>\n",
       "      <th>deep2</th>\n",
       "      <th>deep3</th>\n",
       "      <th>deep4</th>\n",
       "    </tr>\n",
       "  </thead>\n",
       "  <tbody>\n",
       "    <tr>\n",
       "      <th>0</th>\n",
       "      <td>33034.04</td>\n",
       "      <td>8.000</td>\n",
       "      <td>137.500</td>\n",
       "      <td>1</td>\n",
       "      <td>0</td>\n",
       "      <td>10.970567</td>\n",
       "      <td>9.830492</td>\n",
       "      <td>21.860441</td>\n",
       "      <td>5.438149</td>\n",
       "      <td>-27.673203</td>\n",
       "    </tr>\n",
       "    <tr>\n",
       "      <th>1</th>\n",
       "      <td>37311.00</td>\n",
       "      <td>7.833</td>\n",
       "      <td>136.483</td>\n",
       "      <td>8</td>\n",
       "      <td>1</td>\n",
       "      <td>6.717964</td>\n",
       "      <td>-3.232464</td>\n",
       "      <td>-0.380005</td>\n",
       "      <td>-2.153029</td>\n",
       "      <td>-1.987084</td>\n",
       "    </tr>\n",
       "    <tr>\n",
       "      <th>2</th>\n",
       "      <td>35182.00</td>\n",
       "      <td>5.000</td>\n",
       "      <td>136.983</td>\n",
       "      <td>8</td>\n",
       "      <td>1</td>\n",
       "      <td>8.947531</td>\n",
       "      <td>-1.715774</td>\n",
       "      <td>0.864107</td>\n",
       "      <td>-0.941965</td>\n",
       "      <td>-3.536172</td>\n",
       "    </tr>\n",
       "    <tr>\n",
       "      <th>3</th>\n",
       "      <td>31972.25</td>\n",
       "      <td>4.967</td>\n",
       "      <td>132.367</td>\n",
       "      <td>5</td>\n",
       "      <td>0</td>\n",
       "      <td>-21.048632</td>\n",
       "      <td>-32.846874</td>\n",
       "      <td>5.398369</td>\n",
       "      <td>-4.202077</td>\n",
       "      <td>10.855045</td>\n",
       "    </tr>\n",
       "    <tr>\n",
       "      <th>4</th>\n",
       "      <td>33033.50</td>\n",
       "      <td>8.000</td>\n",
       "      <td>132.467</td>\n",
       "      <td>3</td>\n",
       "      <td>1</td>\n",
       "      <td>-16.586191</td>\n",
       "      <td>-11.120455</td>\n",
       "      <td>-6.275790</td>\n",
       "      <td>19.120222</td>\n",
       "      <td>-12.384036</td>\n",
       "    </tr>\n",
       "  </tbody>\n",
       "</table>\n",
       "</div>"
      ],
      "text/plain": [
       "       time  latitude  longitude  instrument  label      deep0      deep1  \\\n",
       "0  33034.04     8.000    137.500           1      0  10.970567   9.830492   \n",
       "1  37311.00     7.833    136.483           8      1   6.717964  -3.232464   \n",
       "2  35182.00     5.000    136.983           8      1   8.947531  -1.715774   \n",
       "3  31972.25     4.967    132.367           5      0 -21.048632 -32.846874   \n",
       "4  33033.50     8.000    132.467           3      1 -16.586191 -11.120455   \n",
       "\n",
       "       deep2      deep3      deep4  \n",
       "0  21.860441   5.438149 -27.673203  \n",
       "1  -0.380005  -2.153029  -1.987084  \n",
       "2   0.864107  -0.941965  -3.536172  \n",
       "3   5.398369  -4.202077  10.855045  \n",
       "4  -6.275790  19.120222 -12.384036  "
      ]
     },
     "execution_count": 14,
     "metadata": {},
     "output_type": "execute_result"
    }
   ],
   "source": [
    "\"\"\"查看newdata\"\"\"\n",
    "newdata.head(5)"
   ]
  },
  {
   "cell_type": "code",
   "execution_count": 15,
   "metadata": {},
   "outputs": [],
   "source": [
    "# 标准化前三列的数据\n",
    "newdata.iloc[:,0:3] = scaler.fit_transform(newdata.iloc[:, 0:3])"
   ]
  },
  {
   "cell_type": "code",
   "execution_count": 16,
   "metadata": {},
   "outputs": [
    {
     "data": {
      "text/html": [
       "<div>\n",
       "<style scoped>\n",
       "    .dataframe tbody tr th:only-of-type {\n",
       "        vertical-align: middle;\n",
       "    }\n",
       "\n",
       "    .dataframe tbody tr th {\n",
       "        vertical-align: top;\n",
       "    }\n",
       "\n",
       "    .dataframe thead th {\n",
       "        text-align: right;\n",
       "    }\n",
       "</style>\n",
       "<table border=\"1\" class=\"dataframe\">\n",
       "  <thead>\n",
       "    <tr style=\"text-align: right;\">\n",
       "      <th></th>\n",
       "      <th>time</th>\n",
       "      <th>latitude</th>\n",
       "      <th>longitude</th>\n",
       "      <th>instrument</th>\n",
       "      <th>label</th>\n",
       "      <th>deep0</th>\n",
       "      <th>deep1</th>\n",
       "      <th>deep2</th>\n",
       "      <th>deep3</th>\n",
       "      <th>deep4</th>\n",
       "    </tr>\n",
       "  </thead>\n",
       "  <tbody>\n",
       "    <tr>\n",
       "      <th>0</th>\n",
       "      <td>-0.295965</td>\n",
       "      <td>1.089847</td>\n",
       "      <td>0.587218</td>\n",
       "      <td>1</td>\n",
       "      <td>0</td>\n",
       "      <td>10.970567</td>\n",
       "      <td>9.830492</td>\n",
       "      <td>21.860441</td>\n",
       "      <td>5.438149</td>\n",
       "      <td>-27.673203</td>\n",
       "    </tr>\n",
       "    <tr>\n",
       "      <th>1</th>\n",
       "      <td>0.874059</td>\n",
       "      <td>1.031729</td>\n",
       "      <td>0.217826</td>\n",
       "      <td>8</td>\n",
       "      <td>1</td>\n",
       "      <td>6.717964</td>\n",
       "      <td>-3.232464</td>\n",
       "      <td>-0.380005</td>\n",
       "      <td>-2.153029</td>\n",
       "      <td>-1.987084</td>\n",
       "    </tr>\n",
       "    <tr>\n",
       "      <th>2</th>\n",
       "      <td>0.291640</td>\n",
       "      <td>0.045818</td>\n",
       "      <td>0.399434</td>\n",
       "      <td>8</td>\n",
       "      <td>1</td>\n",
       "      <td>8.947531</td>\n",
       "      <td>-1.715774</td>\n",
       "      <td>0.864107</td>\n",
       "      <td>-0.941965</td>\n",
       "      <td>-3.536172</td>\n",
       "    </tr>\n",
       "    <tr>\n",
       "      <th>3</th>\n",
       "      <td>-0.586433</td>\n",
       "      <td>0.034334</td>\n",
       "      <td>-1.277178</td>\n",
       "      <td>5</td>\n",
       "      <td>0</td>\n",
       "      <td>-21.048632</td>\n",
       "      <td>-32.846874</td>\n",
       "      <td>5.398369</td>\n",
       "      <td>-4.202077</td>\n",
       "      <td>10.855045</td>\n",
       "    </tr>\n",
       "    <tr>\n",
       "      <th>4</th>\n",
       "      <td>-0.296113</td>\n",
       "      <td>1.089847</td>\n",
       "      <td>-1.240856</td>\n",
       "      <td>3</td>\n",
       "      <td>1</td>\n",
       "      <td>-16.586191</td>\n",
       "      <td>-11.120455</td>\n",
       "      <td>-6.275790</td>\n",
       "      <td>19.120222</td>\n",
       "      <td>-12.384036</td>\n",
       "    </tr>\n",
       "  </tbody>\n",
       "</table>\n",
       "</div>"
      ],
      "text/plain": [
       "       time  latitude  longitude  instrument  label      deep0      deep1  \\\n",
       "0 -0.295965  1.089847   0.587218           1      0  10.970567   9.830492   \n",
       "1  0.874059  1.031729   0.217826           8      1   6.717964  -3.232464   \n",
       "2  0.291640  0.045818   0.399434           8      1   8.947531  -1.715774   \n",
       "3 -0.586433  0.034334  -1.277178           5      0 -21.048632 -32.846874   \n",
       "4 -0.296113  1.089847  -1.240856           3      1 -16.586191 -11.120455   \n",
       "\n",
       "       deep2      deep3      deep4  \n",
       "0  21.860441   5.438149 -27.673203  \n",
       "1  -0.380005  -2.153029  -1.987084  \n",
       "2   0.864107  -0.941965  -3.536172  \n",
       "3   5.398369  -4.202077  10.855045  \n",
       "4  -6.275790  19.120222 -12.384036  "
      ]
     },
     "execution_count": 16,
     "metadata": {},
     "output_type": "execute_result"
    }
   ],
   "source": [
    "newdata.head(5)"
   ]
  },
  {
   "cell_type": "markdown",
   "metadata": {},
   "source": [
    "###  创建数据集和模型\n",
    "> 通过上面的处理，就有了成形的数据，下面就是创建数据集和模型，然后进行选择"
   ]
  },
  {
   "cell_type": "code",
   "execution_count": 27,
   "metadata": {},
   "outputs": [
    {
     "name": "stdout",
     "output_type": "stream",
     "text": [
      "(39822, 9)\n",
      "(39822,)\n",
      "1    22620\n",
      "0    17202\n",
      "Name: label, dtype: int64\n",
      "[16515  8219  5994 ... 25091 18000 30742] [22963 33603  8580 ... 26820   221 23034]\n"
     ]
    }
   ],
   "source": [
    "\"\"\"获取数据集，并且分出测试集\"\"\"\n",
    "X = newdata.drop(['label'], axis=1).values\n",
    "Y = newdata['label'].values\n",
    "\n",
    "print(X.shape)\n",
    "print(Y.shape)\n",
    "print(data['label'].value_counts())\n",
    "\n",
    "\"\"\"由于不匹配，所有分割数据集的时候采用层次抽样的方式\"\"\"\n",
    "ss = StratifiedShuffleSplit(n_splits=1, test_size=0.2, random_state=7)\n",
    "\n",
    "for train_index, test_index in ss.split(X, Y):\n",
    "    print(train_index, test_index)\n",
    "    train_set_x = X[train_index]\n",
    "    train_set_y = Y[train_index]\n",
    "    test_set_x = X[test_index]\n",
    "    test_set_y = Y[test_index]"
   ]
  },
  {
   "cell_type": "code",
   "execution_count": 28,
   "metadata": {},
   "outputs": [
    {
     "name": "stdout",
     "output_type": "stream",
     "text": [
      "(31857, 9)\n",
      "(31857,)\n",
      "(7965, 9)\n",
      "(7965,)\n"
     ]
    }
   ],
   "source": [
    "print(train_set_x.shape)\n",
    "print(train_set_y.shape)\n",
    "print(test_set_x.shape)\n",
    "print(test_set_y.shape)\n"
   ]
  },
  {
   "cell_type": "code",
   "execution_count": 29,
   "metadata": {
    "scrolled": true
   },
   "outputs": [
    {
     "name": "stdout",
     "output_type": "stream",
     "text": [
      "KNN: 0.987 (0.002)\n",
      "SVM: 0.982 (0.002)\n",
      "Ada: 0.885 (0.006)\n",
      "Xgb: 0.906 (0.006)\n"
     ]
    },
    {
     "data": {
      "image/png": "[encoded data removed]",
      "text/plain": [
       "<Figure size 432x288 with 1 Axes>"
      ]
     },
     "metadata": {
      "needs_background": "light"
     },
     "output_type": "display_data"
    }
   ],
   "source": [
    "\"\"\"创建各种模型\"\"\"\n",
    "num_folds = 10\n",
    "seed = 7\n",
    "\n",
    "kfold = KFold(n_splits=num_folds, random_state=seed)\n",
    "models = {}\n",
    "# models['LR'] = LogisticRegression()\n",
    "models['KNN'] = KNeighborsClassifier()\n",
    "# models['CART'] = DecisionTreeClassifier()\n",
    "models['SVM'] = SVC()\n",
    "#models['NB'] = GaussianNB()\n",
    "models['Ada'] = AdaBoostClassifier()\n",
    "# models['Xgb'] = XGBClassifier(learning_rate=0.1,\n",
    "#                               n_estimators=1000,         # 树的个数--1000棵树建立xgboostmax_depth=6,              \n",
    "#                               max_depth=6,               # 树的深度\n",
    "#                               min_child_weight = 1,      # 叶子节点最小权重\n",
    "#                               gamma=0.,                  # 惩罚项中叶子结点个数前的参数\n",
    "#                               subsample=0.8,             # 随机选择80%样本建立决策树\n",
    "#                               colsample_btree=0.8,       # 随机选择80%特征建立决策树\n",
    "#                               scale_pos_weight=1,        # 解决样本个数不平衡的问题\n",
    "#                               random_state=27            # 随机数)\n",
    "#                              )\n",
    "models['Xgb'] = XGBClassifier()\n",
    "results = []\n",
    "\n",
    "for name in models:\n",
    "    result = cross_val_score(models[name], train_set_x, train_set_y, cv=kfold)\n",
    "    results.append(result)\n",
    "    msg = ('%s: %.3f (%.3f)' % (name, result.mean(), result.std()))\n",
    "    print(msg)\n",
    "    \n",
    "# 图表展示\n",
    "fig = plt.figure()\n",
    "fig.suptitle('Algorithm Comparison')\n",
    "ax = fig.add_subplot(111)\n",
    "plt.boxplot(results)\n",
    "ax.set_xticklabels(models.keys())\n",
    "plt.show()    "
   ]
  },
  {
   "cell_type": "code",
   "execution_count": 30,
   "metadata": {},
   "outputs": [
    {
     "name": "stdout",
     "output_type": "stream",
     "text": [
      "最优: 0.9950089462284584 使用 {'n_neighbors': 1}\n",
      "0.995009 (0.001212) with {'n_neighbors': 1}\n",
      "0.990928 (0.001664) with {'n_neighbors': 3}\n",
      "0.987130 (0.001753) with {'n_neighbors': 5}\n",
      "0.983834 (0.002517) with {'n_neighbors': 7}\n",
      "0.980664 (0.002304) with {'n_neighbors': 9}\n",
      "0.977368 (0.002514) with {'n_neighbors': 11}\n",
      "0.974134 (0.002555) with {'n_neighbors': 13}\n",
      "0.970776 (0.002490) with {'n_neighbors': 15}\n",
      "0.967794 (0.003181) with {'n_neighbors': 17}\n",
      "0.964686 (0.003542) with {'n_neighbors': 19}\n",
      "0.962143 (0.003726) with {'n_neighbors': 21}\n"
     ]
    }
   ],
   "source": [
    "\"\"\"优化模型 - KNN调参\"\"\"\n",
    "# 调参改进算法 --- KNN\n",
    "param_grid = {'n_neighbors': [1, 3, 5, 7, 9, 11, 13, 15, 17, 19, 21]}\n",
    "model = KNeighborsClassifier()\n",
    "kfold = KFold(n_splits=num_folds, random_state=seed)\n",
    "grid = GridSearchCV(estimator=model, param_grid=param_grid, scoring='accuracy', cv=kfold)\n",
    "grid_result = grid.fit(X=train_set_x, y=train_set_y)\n",
    "\n",
    "print('最优: %s 使用 %s' % (grid_result.best_score_, grid_result.best_params_))\n",
    "cv_results = zip(grid_result.cv_results_['mean_test_score'], grid_result.cv_results_['std_test_score'], grid_result.cv_results_['params'])\n",
    "\n",
    "for mean, std, param in cv_results:\n",
    "    print('%f (%f) with %r' % (mean, std, param)) "
   ]
  },
  {
   "cell_type": "code",
   "execution_count": null,
   "metadata": {},
   "outputs": [],
   "source": [
    "\"\"\"优化模型 - SVM调参\"\"\"\n",
    "# 支持向量机有两个重要的参数：  C（惩罚系数）默认1.0 和kernel（径向基函数） 默认rbf\n",
    "param_grid = {}\n",
    "param_grid['C'] = [0.1, 0.3, 0.5, 0.7, 0.9, 1.0, 1.3, 1.5, 1.7, 2.0]\n",
    "#param_grid['kernel'] = ['linear', 'poly', 'rbf', 'sigmoid']\n",
    "# 注意： 这里的kernel参数不要有precomputed  , 否则会报错\n",
    "\"\"\"\n",
    "ValueError: X should be a square kernel matrix\n",
    "\n",
    "    解决：从参数空间中删除“预先计算”.\n",
    "        kernel =’precomputed’只能在传递表示样本的成对相似性的(n_samples,n_samples)数据矩阵时使用,\n",
    "        而不是传统的(n_samples,n_features)矩形数据矩阵.\n",
    "\"\"\"\n",
    "\n",
    "model = SVC()\n",
    "kfold = KFold(n_splits=num_folds, random_state=seed)\n",
    "grid = GridSearchCV(estimator=model, param_grid=param_grid, scoring='accuracy', cv=kfold)\n",
    "grid_result = grid.fit(X=train_set_x, y=train_set_y)\n",
    "\n",
    "print('最优： %s 使用 %s' % (grid_result.best_score_, grid_result.best_params_))\n",
    "cv_results = zip(grid_result.cv_results_['mean_test_score'], grid_result.cv_results_['std_test_score'], grid_result.cv_results_['params'])\n",
    "for mean, std, param in cv_results:\n",
    "    print('%f (%f) with %r' % (mean, std, param))"
   ]
  },
  {
   "cell_type": "code",
   "execution_count": 23,
   "metadata": {},
   "outputs": [
    {
     "name": "stdout",
     "output_type": "stream",
     "text": [
      "最优： 0.9883739970525627 使用 {'n_estimators': 10}\n",
      "0.988374 (0.002827) with {'n_estimators': 10}\n",
      "0.988319 (0.002870) with {'n_estimators': 50}\n",
      "0.988101 (0.002835) with {'n_estimators': 100}\n",
      "0.987992 (0.002675) with {'n_estimators': 200}\n",
      "0.987937 (0.002385) with {'n_estimators': 300}\n",
      "0.987992 (0.002303) with {'n_estimators': 400}\n",
      "0.987774 (0.002492) with {'n_estimators': 500}\n",
      "0.987664 (0.002655) with {'n_estimators': 600}\n",
      "0.987664 (0.003042) with {'n_estimators': 700}\n",
      "0.987774 (0.002786) with {'n_estimators': 800}\n",
      "0.987774 (0.002586) with {'n_estimators': 900}\n"
     ]
    }
   ],
   "source": [
    "\"\"\"AdaBoost调参\"\"\"\n",
    "param_grid = {'n_estimators': [10, 50, 100, 200, 300, 400, 500, 600, 700, 800, 900]}\n",
    "\n",
    "model = AdaBoostClassifier()\n",
    "kfold = KFold(n_splits=num_folds, random_state=seed)\n",
    "grid = GridSearchCV(estimator=model, param_grid=param_grid, scoring='accuracy', cv=kfold)\n",
    "grid_result = grid.fit(X=train_set_x, y=train_set_y)\n",
    "\n",
    "print('最优： %s 使用 %s' % (grid_result.best_score_, grid_result.best_params_))\n",
    "\n",
    "cv_results = zip(grid_result.cv_results_['mean_test_score'], grid_result.cv_results_['std_test_score'], grid_result.cv_results_['params'])\n",
    "for mean, std, param in cv_results:\n",
    "    print('%f (%f) with %r' % (mean, std, param))"
   ]
  },
  {
   "cell_type": "markdown",
   "metadata": {},
   "source": [
    "###  确定最终的模型"
   ]
  },
  {
   "cell_type": "code",
   "execution_count": 33,
   "metadata": {},
   "outputs": [
    {
     "name": "stdout",
     "output_type": "stream",
     "text": [
      "accuracy_score\n",
      " 0.9962335216572504\n",
      "\n",
      "confusion_matrix\n",
      "       0     1\n",
      "0  3441     0\n",
      "1    30  4494\n",
      "\n",
      "classification_report\n",
      "               precision    recall  f1-score   support\n",
      "\n",
      "           0       0.99      1.00      1.00      3441\n",
      "           1       1.00      0.99      1.00      4524\n",
      "\n",
      "    accuracy                           1.00      7965\n",
      "   macro avg       1.00      1.00      1.00      7965\n",
      "weighted avg       1.00      1.00      1.00      7965\n",
      "\n"
     ]
    }
   ],
   "source": [
    "# model =XGBClassifier(learning_rate=0.1,\n",
    "#                      n_estimators=1000,         # 树的个数--1000棵树建立xgboostmax_depth=6,              \n",
    "#                      max_depth=6,               # 树的深度\n",
    "#                      min_child_weight = 1,      # 叶子节点最小权重\n",
    "#                      gamma=0.,                  # 惩罚项中叶子结点个数前的参数\n",
    "#                      subsample=0.8,             # 随机选择80%样本建立决策树\n",
    "#                      colsample_btree=0.8,       # 随机选择80%特征建立决策树\n",
    "#                      scale_pos_weight=1,        # 解决样本个数不平衡的问题\n",
    "#                      random_state=27            # 随机数)\n",
    "#                     )\n",
    "\n",
    "#model = AdaBoostClassifier(n_estimators=10)\n",
    "model = KNeighborsClassifier(n_neighbors=1)\n",
    "#model = XGBClassifier()\n",
    "\n",
    "model.fit(X=train_set_x, y=train_set_y)\n",
    "\n",
    "# 评估模型\n",
    "predictions = model.predict(test_set_x)\n",
    "print(\"accuracy_score\\n\",accuracy_score(test_set_y, predictions))\n",
    "print(\"\\nconfusion_matrix\\n\", pd.DataFrame(confusion_matrix(test_set_y, predictions),columns=np.unique(test_set_y), index=np.unique(test_set_y)))\n",
    "print(\"\\nclassification_report\\n\", classification_report(test_set_y, predictions))"
   ]
  }
 ],
 "metadata": {
  "kernelspec": {
   "display_name": "Python 3",
   "language": "python",
   "name": "python3"
  },
  "language_info": {
   "codemirror_mode": {
    "name": "ipython",
    "version": 3
   },
   "file_extension": ".py",
   "mimetype": "text/x-python",
   "name": "python",
   "nbconvert_exporter": "python",
   "pygments_lexer": "ipython3",
   "version": "3.6.8"
  }
 },
 "nbformat": 4,
 "nbformat_minor": 2
}
