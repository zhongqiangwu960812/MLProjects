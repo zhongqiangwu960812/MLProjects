{
 "cells": [
  {
   "cell_type": "markdown",
   "metadata": {},
   "source": [
    "## Description\n",
    "> 该项目基于约会人员的分类数据，调用sklearn类库进行分类， 重点联系机器学习项目处理数据的流程\n",
    ">\n",
    "> 我的朋友艾伦一直使用在线的约会网站寻找合适的约会对象，尽管约会网站会推荐不同的人选， 但她并不喜欢每一个人，经过一番总结，她交往过三种类型的人\n",
    ">> * 不喜欢的人\n",
    ">> * 魅力一般的人\n",
    ">> * 极具魅力的人\n",
    "> \n",
    "> 尽管发现了上述规律， 但是艾伦仍无法将约会网站推荐的匹配对象归入恰当的类别，请你根据给定的数据进行分析， 帮助艾伦把新的匹配对象划分到确切的类中\n",
    ">\n",
    "> 基于sklearn库"
   ]
  },
  {
   "cell_type": "markdown",
   "metadata": {},
   "source": [
    "### 1. 导入相应的包 "
   ]
  },
  {
   "cell_type": "code",
   "execution_count": 68,
   "metadata": {},
   "outputs": [],
   "source": [
    "import numpy as np\n",
    "import pandas as pd\n",
    "from matplotlib import pyplot as plt\n",
    "\n",
    "from sklearn.preprocessing import StandardScaler\n",
    "from sklearn.preprocessing import MinMaxScaler\n",
    "from sklearn.pipeline import Pipeline\n",
    "\n",
    "from sklearn.model_selection import train_test_split\n",
    "from sklearn.model_selection import KFold\n",
    "from sklearn.model_selection import cross_val_score\n",
    "from sklearn.model_selection import GridSearchCV\n",
    "\n",
    "from sklearn.neighbors import KNeighborsClassifier\n",
    "from sklearn.naive_bayes import GaussianNB\n",
    "from sklearn.tree import DecisionTreeClassifier\n",
    "from sklearn.svm import SVC\n",
    "\n",
    "from sklearn.ensemble import AdaBoostClassifier\n",
    "from sklearn.ensemble import GradientBoostingClassifier\n",
    "from sklearn.ensemble import RandomForestClassifier\n",
    "from sklearn.ensemble import ExtraTreesClassifier\n",
    "\n",
    "\n",
    "from sklearn.metrics import confusion_matrix\n",
    "from sklearn.metrics import classification_report\n",
    "from sklearn.metrics import accuracy_score\n",
    "\n",
    "import warnings\n",
    "warnings.filterwarnings(\"ignore\")"
   ]
  },
  {
   "cell_type": "markdown",
   "metadata": {},
   "source": [
    "### 2. 获取数据\n",
    "> 艾伦收集了一些约会数据，将这些数据保存到了datingSet.txt中，每个样本数据占据一行， 总共1000行。艾伦的样本主要包含下面的特征：\n",
    ">> * 每年获得的飞行常客里程数\n",
    ">> * 玩视频游戏所耗时间百分比\n",
    ">> * 每周消费的冰激凌公升数\n",
    ">\n",
    "> 首先，需要将这些数据解析成可用的numpy解析程序"
   ]
  },
  {
   "cell_type": "code",
   "execution_count": 14,
   "metadata": {},
   "outputs": [
    {
     "name": "stdout",
     "output_type": "stream",
     "text": [
      "  ffMiles percentTats  iceCream labels\n",
      "0   40920    8.326976  0.953952      3\n",
      "1   14488    7.153469  1.673904      2\n",
      "2   26052    1.441871  0.805124      1\n",
      "3   75136   13.147394  0.428964      1\n",
      "4   38344    1.669788  0.134296      1\n",
      "       ffMiles percentTats  iceCream labels\n",
      "count     1000        1000      1000   1000\n",
      "unique     990         940      1000      3\n",
      "top          0    0.000000  1.624296      1\n",
      "freq         5          61         1    342\n",
      "<class 'pandas.core.frame.DataFrame'>\n",
      "RangeIndex: 1000 entries, 0 to 999\n",
      "Data columns (total 4 columns):\n",
      "ffMiles        1000 non-null object\n",
      "percentTats    1000 non-null object\n",
      "iceCream       1000 non-null object\n",
      "labels         1000 non-null object\n",
      "dtypes: object(4)\n",
      "memory usage: 31.3+ KB\n",
      "None\n",
      "(1000, 4)\n"
     ]
    }
   ],
   "source": [
    "# 从文件中读取数据，然后转换成DataFrame\n",
    "filename = \"datingTestSet2.txt\"\n",
    "data = []\n",
    "with open(filename, \"r\") as fr:\n",
    "    for line in fr:\n",
    "        line = line.strip().split(\"\\t\")\n",
    "        data.append(line)\n",
    "\n",
    "names = ['ffMiles','percentTats', 'iceCream', 'labels']\n",
    "dataset = pd.DataFrame(data, columns=names)\n",
    "print(dataset.head())\n",
    "print(dataset.describe())\n",
    "print(dataset.info())\n",
    "print(dataset.shape)"
   ]
  },
  {
   "cell_type": "markdown",
   "metadata": {},
   "source": [
    "### 3. 分离评估数据集 "
   ]
  },
  {
   "cell_type": "code",
   "execution_count": 87,
   "metadata": {},
   "outputs": [],
   "source": [
    "## array = dataset.values\n",
    "X = array[:, 0:3].astype(float)\n",
    "Y = array[:, 3]\n",
    "validation_value = 0.2\n",
    "seed = 5\n",
    "X_train, X_validation, Y_train, Y_validation = train_test_split(X, Y, test_size=validation_value, random_state=seed) "
   ]
  },
  {
   "cell_type": "markdown",
   "metadata": {},
   "source": [
    "###  4. 评估模型"
   ]
  },
  {
   "cell_type": "code",
   "execution_count": 88,
   "metadata": {},
   "outputs": [
    {
     "name": "stdout",
     "output_type": "stream",
     "text": [
      "KNN : 0.7949999999999999 (0.06254998001598401)\n",
      "SVM : 0.35875 (0.0344827855603343)\n",
      "CART : 0.9412499999999999 (0.023082731640774245)\n",
      "NB : 0.9349999999999999 (0.014577379737113235)\n"
     ]
    }
   ],
   "source": [
    "# 评估算法的基准\n",
    "num_folds = 10\n",
    "seed = 7\n",
    "scoring = 'accuracy'\n",
    "\n",
    "models = {}\n",
    "models['KNN'] = KNeighborsClassifier()\n",
    "models['SVM'] = SVC()\n",
    "models['CART'] = DecisionTreeClassifier()\n",
    "models['NB'] = GaussianNB()\n",
    "\n",
    "# 评估\n",
    "results = []\n",
    "for key in models:\n",
    "    kfold = KFold(n_splits=num_folds, random_state=seed)\n",
    "    cv_result = cross_val_score(models[key], X_train, Y_train, cv=kfold, scoring=scoring)\n",
    "    results.append(cv_result)\n",
    "    print(\"{} : {} ({})\".format(key, cv_result.mean(), cv_result.std()))"
   ]
  },
  {
   "cell_type": "code",
   "execution_count": 89,
   "metadata": {},
   "outputs": [
    {
     "data": {
      "image/png": "[encoded data removed]",
      "text/plain": [
       "<Figure size 432x288 with 1 Axes>"
      ]
     },
     "metadata": {
      "needs_background": "light"
     },
     "output_type": "display_data"
    },
    {
     "data": {
      "text/plain": [
       "'从上面可以看出，决策树和朴素贝叶斯算法效果好一些， 支持向量机表现效果差，可能是数据没有标准化的原因，我们下面对数据\\n进行标准化之后，统一再比较，使用自动处理流程'"
      ]
     },
     "execution_count": 89,
     "metadata": {},
     "output_type": "execute_result"
    }
   ],
   "source": [
    "# 评估算法 --- 箱线图\n",
    "fig = plt.figure()\n",
    "fig.suptitle('Algorithm Comparison')\n",
    "ax = fig.add_subplot(111)\n",
    "plt.boxplot(results)\n",
    "ax.set_xticklabels(models.keys())\n",
    "plt.show()\n",
    "\n",
    "\"\"\"从上面可以看出，决策树和朴素贝叶斯算法效果好一些， 支持向量机表现效果差，可能是数据没有标准化的原因，我们下面对数据\n",
    "进行标准化之后，统一再比较，使用自动处理流程\"\"\""
   ]
  },
  {
   "cell_type": "code",
   "execution_count": 91,
   "metadata": {},
   "outputs": [
    {
     "name": "stdout",
     "output_type": "stream",
     "text": [
      "ScalerKNN : 0.9487499999999999 (0.021250000000000005)\n",
      "ScalerSVM : 0.9549999999999998 (0.025124689052802223)\n",
      "ScalerCART : 0.9475 (0.02222048604328897)\n",
      "ScalerNB : 0.93625 (0.014197270864500672)\n"
     ]
    },
    {
     "data": {
      "image/png": "[encoded data removed]",
      "text/plain": [
       "<Figure size 432x288 with 1 Axes>"
      ]
     },
     "metadata": {
      "needs_background": "light"
     },
     "output_type": "display_data"
    },
    {
     "data": {
      "text/plain": [
       "'经过特征缩放之后，还是SVM和KNN比较好，下面就从这两个模型中进行进一步的改进'"
      ]
     },
     "execution_count": 91,
     "metadata": {},
     "output_type": "execute_result"
    }
   ],
   "source": [
    "# 标准化处理数据\n",
    "pipelines = {}\n",
    "pipelines['ScalerKNN'] = Pipeline([('Scaler', StandardScaler()), ('KNN', KNeighborsClassifier())])\n",
    "pipelines['ScalerSVM'] = Pipeline([('Scaler', StandardScaler()), ('SVM', SVC())])\n",
    "pipelines['ScalerCART'] = Pipeline([('Scaler', StandardScaler()), ('CART', DecisionTreeClassifier())])\n",
    "pipelines['ScalerNB'] = Pipeline([('Scaler', StandardScaler()), ('NB', GaussianNB())])\n",
    "\n",
    "results = []\n",
    "for key in pipelines:\n",
    "    kfold = KFold(n_splits=num_folds, random_state=seed)\n",
    "    cv_result = cross_val_score(pipelines[key], X_train, Y_train, cv=kfold, scoring=scoring)\n",
    "    results.append(cv_result)\n",
    "    print(\"{} : {} ({})\".format(key, cv_result.mean(), cv_result.std()))\n",
    "\n",
    "# 箱线图\n",
    "fig = plt.figure()\n",
    "fig.suptitle('Scaled Algorithm Comparison')\n",
    "ax = fig.add_subplot(111)\n",
    "plt.boxplot(results)\n",
    "ax.set_xticklabels(models.keys())\n",
    "plt.show()\n",
    "\n",
    "\n",
    "\"\"\"经过特征缩放之后，还是SVM和KNN比较好，下面就从这两个模型中进行进一步的改进\"\"\""
   ]
  },
  {
   "cell_type": "markdown",
   "metadata": {},
   "source": [
    "### 4. 优化模型\n",
    "> * 算法调参\n",
    "> * 集成算法"
   ]
  },
  {
   "cell_type": "markdown",
   "metadata": {},
   "source": [
    "#### 4.1 算法调参 "
   ]
  },
  {
   "cell_type": "code",
   "execution_count": 101,
   "metadata": {},
   "outputs": [
    {
     "name": "stdout",
     "output_type": "stream",
     "text": [
      "最优:0.95875  使用 {'n_neighbors': 11}\n"
     ]
    },
    {
     "data": {
      "text/plain": [
       "'最好的k是11'"
      ]
     },
     "execution_count": 101,
     "metadata": {},
     "output_type": "execute_result"
    }
   ],
   "source": [
    "# 算法调参 --- KNN\n",
    "rescaledX = MinMaxScaler().fit_transform(X_train)\n",
    "param_grid = {'n_neighbors': [1, 3, 5, 7,  9, 11, 13, 15, 17, 19, 21]}\n",
    "model = KNeighborsClassifier()\n",
    "kfold = KFold(n_splits=num_folds, random_state=seed)\n",
    "grid = GridSearchCV(estimator=model, param_grid=param_grid, scoring=scoring, cv=kfold)\n",
    "grid_result = grid.fit(X=rescaledX, y=Y_train)\n",
    "print(\"最优:{}  使用 {}\".format(grid_result.best_score_, grid_result.best_params_))\n",
    "\n",
    "# cv_results = zip(grid_result.cv_results_['mean_test_score'], grid_result.cv_results_['std_test_score'], grid_result.cv_results_['params']) \n",
    "# for mean, std, param in cv_results:\n",
    "#     print('%f (%f) with %r' % (mean, std, param))\n",
    "\n",
    "\n",
    "\"\"\"最好的k是11\"\"\""
   ]
  },
  {
   "cell_type": "code",
   "execution_count": 93,
   "metadata": {},
   "outputs": [
    {
     "name": "stdout",
     "output_type": "stream",
     "text": [
      "最优:0.96  使用 {'C': 1.5, 'kernel': 'rbf'}\n"
     ]
    },
    {
     "data": {
      "text/plain": [
       "'关于SVM的最优参数 C=2.0  kernel = rbf'"
      ]
     },
     "execution_count": 93,
     "metadata": {},
     "output_type": "execute_result"
    }
   ],
   "source": [
    "# 算法调参 --- SVM\n",
    "rescaledX = StandardScaler().fit_transform(X_train)\n",
    "param_grid = {}\n",
    "param_grid['C'] = [0.1, 0.3, 0.5, 0.7, 0.9, 1.0, 1.3, 1.5, 1.7, 2.0]\n",
    "param_grid['kernel'] = ['linear', 'poly', 'rbf', 'sigmoid']\n",
    "model = SVC()\n",
    "kfold = KFold(n_splits=num_folds, random_state=seed)\n",
    "grid = GridSearchCV(estimator=model, param_grid=param_grid, cv=kfold, scoring=scoring)\n",
    "grid_result = grid.fit(X=rescaledX, y=Y_train)\n",
    "\n",
    "print(\"最优:{}  使用 {}\".format(grid_result.best_score_, grid_result.best_params_))\n",
    "\n",
    "# cv_results = zip(grid_result.cv_results_['mean_test_score'], grid_result.cv_results_['std_test_score'], grid_result.cv_results_['params']) \n",
    "# for mean, std, param in cv_results:\n",
    "#     print('%f (%f) with %r' % (mean, std, param))\n",
    "\n",
    "    \n",
    "\"\"\"关于SVM的最优参数 C=2.0  kernel = rbf\"\"\""
   ]
  },
  {
   "cell_type": "markdown",
   "metadata": {},
   "source": [
    "#### 4.2 集成算法\n",
    "> 除了调参， 提高算法准确度的方法是集成算法。 下面对四种集成算法进行比较，进一步提高算法的准确度\n",
    ">> * 装袋算法： 随机森林(RF)和极端随机树(ET)\n",
    ">> * 提升算法： AdaBoost(AB) 和随机梯度上升(GBM)"
   ]
  },
  {
   "cell_type": "code",
   "execution_count": 94,
   "metadata": {},
   "outputs": [
    {
     "name": "stdout",
     "output_type": "stream",
     "text": [
      "ScaledAB: 0.798750 (0.042001)\n",
      "ScaledGBM: 0.955000 (0.021794)\n",
      "ScaledRF: 0.952500 (0.015612)\n",
      "ScaledET: 0.952500 (0.020767)\n"
     ]
    },
    {
     "data": {
      "image/png": "[encoded data removed]",
      "text/plain": [
       "<Figure size 432x288 with 1 Axes>"
      ]
     },
     "metadata": {
      "needs_background": "light"
     },
     "output_type": "display_data"
    },
    {
     "data": {
      "text/plain": [
       "'随机梯度上升也许值得进一步分析， 因为具有良好的准确度，并且数据比较紧凑'"
      ]
     },
     "execution_count": 94,
     "metadata": {},
     "output_type": "execute_result"
    }
   ],
   "source": [
    "# 集成算法\n",
    "ensembles = {}\n",
    "ensembles['ScaledAB'] = Pipeline([('Scaler', StandardScaler()), ('AB', AdaBoostClassifier())])\n",
    "ensembles['ScaledGBM'] = Pipeline([('Scaler', StandardScaler()), ('GBM', GradientBoostingClassifier())])\n",
    "ensembles['ScaledRF'] = Pipeline([('Scaler', StandardScaler()), ('RF', RandomForestClassifier())])\n",
    "ensembles['ScaledET'] = Pipeline([('Scaler', StandardScaler()), ('ET', ExtraTreesClassifier())])\n",
    "\n",
    "results = []\n",
    "for key in ensembles:\n",
    "    kfold = KFold(n_splits=num_folds, random_state=seed)\n",
    "    cv_result = cross_val_score(ensembles[key], X_train, Y_train, cv=kfold, scoring=scoring)\n",
    "    results.append(cv_result)\n",
    "    print('%s: %f (%f)' % (key, cv_result.mean(), cv_result.std()))\n",
    "\n",
    "# 集成算法 --- 箱线图\n",
    "fig = plt.figure()\n",
    "fig.suptitle('Algorithm Comparison')\n",
    "ax = fig.add_subplot(111)\n",
    "plt.boxplot(results)\n",
    "ax.set_xticklabels(ensembles.keys())\n",
    "plt.show()\n",
    "\n",
    "\"\"\"随机梯度上升也许值得进一步分析， 因为具有良好的准确度，并且数据比较紧凑\"\"\"\n"
   ]
  },
  {
   "cell_type": "code",
   "execution_count": 96,
   "metadata": {
    "collapsed": true
   },
   "outputs": [
    {
     "name": "stdout",
     "output_type": "stream",
     "text": [
      "最优： 0.9575 使用 {'n_estimators': 50}\n",
      "0.947500 (0.020000) with {'n_estimators': 10}\n",
      "0.957500 (0.018708) with {'n_estimators': 50}\n",
      "0.955000 (0.021794) with {'n_estimators': 100}\n",
      "0.955000 (0.023184) with {'n_estimators': 200}\n",
      "0.952500 (0.023585) with {'n_estimators': 300}\n",
      "0.953750 (0.023083) with {'n_estimators': 400}\n",
      "0.953750 (0.023083) with {'n_estimators': 500}\n",
      "0.953750 (0.023083) with {'n_estimators': 600}\n",
      "0.953750 (0.023083) with {'n_estimators': 700}\n",
      "0.953750 (0.023083) with {'n_estimators': 800}\n",
      "0.953750 (0.023083) with {'n_estimators': 900}\n"
     ]
    },
    {
     "data": {
      "text/plain": [
       "'最优参数200个分类器的效果比较好'"
      ]
     },
     "execution_count": 96,
     "metadata": {},
     "output_type": "execute_result"
    }
   ],
   "source": [
    "# 集成算法调参 --- GBM\n",
    "rescaledX = StandardScaler().fit_transform(X_train)\n",
    "param_grid = {'n_estimators': [10, 50, 100, 200, 300, 400, 500, 600, 700, 800, 900]}\n",
    "\n",
    "model = GradientBoostingClassifier()\n",
    "kfold = KFold(n_splits=num_folds, random_state=seed)\n",
    "grid = GridSearchCV(estimator=model, param_grid=param_grid, scoring=scoring, cv=kfold)\n",
    "grid_result = grid.fit(X=rescaledX, y=Y_train)\n",
    "\n",
    "print('最优： %s 使用 %s' % (grid_result.best_score_, grid_result.best_params_))\n",
    "\n",
    "cv_results = zip(grid_result.cv_results_['mean_test_score'], grid_result.cv_results_['std_test_score'], grid_result.cv_results_['params'])\n",
    "for mean, std, param in cv_results:\n",
    "    print('%f (%f) with %r' % (mean, std, param))\n",
    "\n",
    "\"\"\"最优参数200个分类器的效果比较好\"\"\""
   ]
  },
  {
   "cell_type": "markdown",
   "metadata": {},
   "source": [
    "###  确定最终模型\n",
    "> 通过前面对算法的评估发现 支持向量机具有最佳的准确度。 所以将会用支持向量机（SVM）, 通过训练集数据生成算法模型， 并通过预留的评估数据集\n",
    "来评估模型。 在算法评估过程中， 支持向量机SVM对正态化的数据具有较高的准确度。所以对训练集做正态化处理， 对评估数据集也做相同的处理。"
   ]
  },
  {
   "cell_type": "code",
   "execution_count": 103,
   "metadata": {
    "collapsed": true
   },
   "outputs": [
    {
     "name": "stdout",
     "output_type": "stream",
     "text": [
      "the classifier came back with: 2, the real answer is: 2\n",
      "the classifier came back with: 1, the real answer is: 1\n",
      "the classifier came back with: 1, the real answer is: 1\n",
      "the classifier came back with: 1, the real answer is: 1\n",
      "the classifier came back with: 1, the real answer is: 1\n",
      "the classifier came back with: 3, the real answer is: 3\n",
      "the classifier came back with: 2, the real answer is: 2\n",
      "the classifier came back with: 2, the real answer is: 2\n",
      "the classifier came back with: 3, the real answer is: 3\n",
      "the classifier came back with: 2, the real answer is: 2\n",
      "the classifier came back with: 2, the real answer is: 2\n",
      "the classifier came back with: 3, the real answer is: 3\n",
      "the classifier came back with: 1, the real answer is: 1\n",
      "the classifier came back with: 2, the real answer is: 2\n",
      "the classifier came back with: 3, the real answer is: 3\n",
      "the classifier came back with: 1, the real answer is: 1\n",
      "the classifier came back with: 1, the real answer is: 1\n",
      "the classifier came back with: 2, the real answer is: 2\n",
      "the classifier came back with: 2, the real answer is: 2\n",
      "the classifier came back with: 1, the real answer is: 1\n",
      "the classifier came back with: 3, the real answer is: 3\n",
      "the classifier came back with: 2, the real answer is: 2\n",
      "the classifier came back with: 1, the real answer is: 1\n",
      "the classifier came back with: 3, the real answer is: 3\n",
      "the classifier came back with: 2, the real answer is: 2\n",
      "the classifier came back with: 1, the real answer is: 1\n",
      "the classifier came back with: 1, the real answer is: 1\n",
      "the classifier came back with: 3, the real answer is: 3\n",
      "the classifier came back with: 1, the real answer is: 1\n",
      "the classifier came back with: 1, the real answer is: 1\n",
      "the classifier came back with: 3, the real answer is: 3\n",
      "the classifier came back with: 3, the real answer is: 3\n",
      "the classifier came back with: 1, the real answer is: 1\n",
      "the classifier came back with: 2, the real answer is: 2\n",
      "the classifier came back with: 1, the real answer is: 3\n",
      "the classifier came back with: 2, the real answer is: 2\n",
      "the classifier came back with: 2, the real answer is: 2\n",
      "the classifier came back with: 1, the real answer is: 1\n",
      "the classifier came back with: 3, the real answer is: 3\n",
      "the classifier came back with: 1, the real answer is: 1\n",
      "the classifier came back with: 1, the real answer is: 3\n",
      "the classifier came back with: 3, the real answer is: 3\n",
      "the classifier came back with: 2, the real answer is: 2\n",
      "the classifier came back with: 2, the real answer is: 2\n",
      "the classifier came back with: 1, the real answer is: 3\n",
      "the classifier came back with: 2, the real answer is: 2\n",
      "the classifier came back with: 1, the real answer is: 1\n",
      "the classifier came back with: 3, the real answer is: 3\n",
      "the classifier came back with: 3, the real answer is: 3\n",
      "the classifier came back with: 3, the real answer is: 3\n",
      "the classifier came back with: 3, the real answer is: 3\n",
      "the classifier came back with: 1, the real answer is: 1\n",
      "the classifier came back with: 3, the real answer is: 3\n",
      "the classifier came back with: 2, the real answer is: 2\n",
      "the classifier came back with: 3, the real answer is: 3\n",
      "the classifier came back with: 1, the real answer is: 1\n",
      "the classifier came back with: 2, the real answer is: 2\n",
      "the classifier came back with: 2, the real answer is: 2\n",
      "the classifier came back with: 1, the real answer is: 1\n",
      "the classifier came back with: 2, the real answer is: 2\n",
      "the classifier came back with: 1, the real answer is: 1\n",
      "the classifier came back with: 2, the real answer is: 2\n",
      "the classifier came back with: 2, the real answer is: 2\n",
      "the classifier came back with: 1, the real answer is: 1\n",
      "the classifier came back with: 2, the real answer is: 2\n",
      "the classifier came back with: 2, the real answer is: 2\n",
      "the classifier came back with: 1, the real answer is: 1\n",
      "the classifier came back with: 2, the real answer is: 2\n",
      "the classifier came back with: 2, the real answer is: 2\n",
      "the classifier came back with: 2, the real answer is: 2\n",
      "the classifier came back with: 1, the real answer is: 1\n",
      "the classifier came back with: 3, the real answer is: 3\n",
      "the classifier came back with: 2, the real answer is: 2\n",
      "the classifier came back with: 1, the real answer is: 1\n",
      "the classifier came back with: 3, the real answer is: 3\n",
      "the classifier came back with: 2, the real answer is: 2\n",
      "the classifier came back with: 2, the real answer is: 2\n",
      "the classifier came back with: 1, the real answer is: 1\n",
      "the classifier came back with: 2, the real answer is: 2\n",
      "the classifier came back with: 1, the real answer is: 1\n",
      "the classifier came back with: 1, the real answer is: 1\n",
      "the classifier came back with: 3, the real answer is: 3\n",
      "the classifier came back with: 2, the real answer is: 2\n",
      "the classifier came back with: 3, the real answer is: 1\n",
      "the classifier came back with: 2, the real answer is: 2\n",
      "the classifier came back with: 1, the real answer is: 3\n",
      "the classifier came back with: 3, the real answer is: 3\n",
      "the classifier came back with: 2, the real answer is: 2\n",
      "the classifier came back with: 1, the real answer is: 1\n",
      "the classifier came back with: 1, the real answer is: 3\n",
      "the classifier came back with: 1, the real answer is: 1\n",
      "the classifier came back with: 2, the real answer is: 2\n",
      "the classifier came back with: 3, the real answer is: 3\n",
      "the classifier came back with: 3, the real answer is: 3\n",
      "the classifier came back with: 3, the real answer is: 3\n",
      "the classifier came back with: 2, the real answer is: 2\n",
      "the classifier came back with: 1, the real answer is: 1\n",
      "the classifier came back with: 3, the real answer is: 3\n",
      "the classifier came back with: 3, the real answer is: 3\n",
      "the classifier came back with: 3, the real answer is: 3\n",
      "the classifier came back with: 3, the real answer is: 3\n",
      "the classifier came back with: 3, the real answer is: 3\n",
      "the classifier came back with: 1, the real answer is: 1\n",
      "the classifier came back with: 3, the real answer is: 3\n",
      "the classifier came back with: 1, the real answer is: 3\n",
      "the classifier came back with: 2, the real answer is: 2\n",
      "the classifier came back with: 1, the real answer is: 1\n",
      "the classifier came back with: 3, the real answer is: 3\n",
      "the classifier came back with: 2, the real answer is: 2\n",
      "the classifier came back with: 3, the real answer is: 3\n",
      "the classifier came back with: 2, the real answer is: 2\n",
      "the classifier came back with: 3, the real answer is: 3\n",
      "the classifier came back with: 1, the real answer is: 1\n",
      "the classifier came back with: 1, the real answer is: 1\n",
      "the classifier came back with: 1, the real answer is: 1\n",
      "the classifier came back with: 1, the real answer is: 1\n",
      "the classifier came back with: 1, the real answer is: 1\n",
      "the classifier came back with: 3, the real answer is: 3\n",
      "the classifier came back with: 1, the real answer is: 1\n",
      "the classifier came back with: 3, the real answer is: 3\n",
      "the classifier came back with: 1, the real answer is: 1\n",
      "the classifier came back with: 1, the real answer is: 1\n",
      "the classifier came back with: 2, the real answer is: 2\n",
      "the classifier came back with: 2, the real answer is: 2\n",
      "the classifier came back with: 2, the real answer is: 2\n",
      "the classifier came back with: 2, the real answer is: 2\n",
      "the classifier came back with: 2, the real answer is: 2\n",
      "the classifier came back with: 3, the real answer is: 3\n",
      "the classifier came back with: 2, the real answer is: 2\n",
      "the classifier came back with: 1, the real answer is: 1\n",
      "the classifier came back with: 1, the real answer is: 1\n",
      "the classifier came back with: 3, the real answer is: 3\n",
      "the classifier came back with: 2, the real answer is: 2\n",
      "the classifier came back with: 1, the real answer is: 1\n",
      "the classifier came back with: 2, the real answer is: 2\n",
      "the classifier came back with: 2, the real answer is: 2\n",
      "the classifier came back with: 3, the real answer is: 3\n",
      "the classifier came back with: 2, the real answer is: 2\n",
      "the classifier came back with: 1, the real answer is: 1\n",
      "the classifier came back with: 2, the real answer is: 2\n",
      "the classifier came back with: 2, the real answer is: 2\n",
      "the classifier came back with: 3, the real answer is: 3\n",
      "the classifier came back with: 1, the real answer is: 2\n",
      "the classifier came back with: 1, the real answer is: 1\n",
      "the classifier came back with: 1, the real answer is: 1\n",
      "the classifier came back with: 3, the real answer is: 3\n",
      "the classifier came back with: 3, the real answer is: 3\n",
      "the classifier came back with: 1, the real answer is: 1\n",
      "the classifier came back with: 1, the real answer is: 1\n",
      "the classifier came back with: 1, the real answer is: 1\n",
      "the classifier came back with: 1, the real answer is: 1\n",
      "the classifier came back with: 1, the real answer is: 1\n",
      "the classifier came back with: 1, the real answer is: 1\n",
      "the classifier came back with: 1, the real answer is: 1\n",
      "the classifier came back with: 3, the real answer is: 3\n",
      "the classifier came back with: 1, the real answer is: 1\n",
      "the classifier came back with: 1, the real answer is: 1\n",
      "the classifier came back with: 3, the real answer is: 3\n",
      "the classifier came back with: 3, the real answer is: 3\n",
      "the classifier came back with: 2, the real answer is: 2\n",
      "the classifier came back with: 1, the real answer is: 1\n",
      "the classifier came back with: 3, the real answer is: 3\n",
      "the classifier came back with: 3, the real answer is: 3\n",
      "the classifier came back with: 2, the real answer is: 2\n",
      "the classifier came back with: 3, the real answer is: 3\n",
      "the classifier came back with: 3, the real answer is: 3\n",
      "the classifier came back with: 2, the real answer is: 1\n",
      "the classifier came back with: 2, the real answer is: 2\n",
      "the classifier came back with: 1, the real answer is: 1\n",
      "the classifier came back with: 2, the real answer is: 2\n",
      "the classifier came back with: 2, the real answer is: 2\n",
      "the classifier came back with: 2, the real answer is: 2\n",
      "the classifier came back with: 3, the real answer is: 3\n",
      "the classifier came back with: 3, the real answer is: 3\n",
      "the classifier came back with: 3, the real answer is: 3\n",
      "the classifier came back with: 3, the real answer is: 3\n",
      "the classifier came back with: 1, the real answer is: 1\n",
      "the classifier came back with: 1, the real answer is: 1\n",
      "the classifier came back with: 3, the real answer is: 3\n",
      "the classifier came back with: 2, the real answer is: 2\n",
      "the classifier came back with: 2, the real answer is: 2\n",
      "the classifier came back with: 1, the real answer is: 1\n",
      "the classifier came back with: 3, the real answer is: 1\n",
      "the classifier came back with: 2, the real answer is: 2\n",
      "the classifier came back with: 3, the real answer is: 3\n",
      "the classifier came back with: 2, the real answer is: 2\n",
      "the classifier came back with: 3, the real answer is: 2\n",
      "the classifier came back with: 3, the real answer is: 3\n",
      "the classifier came back with: 2, the real answer is: 2\n",
      "the classifier came back with: 3, the real answer is: 3\n",
      "the classifier came back with: 1, the real answer is: 1\n",
      "the classifier came back with: 2, the real answer is: 2\n",
      "the classifier came back with: 3, the real answer is: 3\n",
      "the classifier came back with: 2, the real answer is: 2\n",
      "the classifier came back with: 1, the real answer is: 1\n",
      "the classifier came back with: 2, the real answer is: 2\n",
      "the classifier came back with: 2, the real answer is: 2\n",
      "the classifier came back with: 2, the real answer is: 2\n",
      "the classifier came back with: 1, the real answer is: 1\n",
      "the classifier came back with: 3, the real answer is: 2\n",
      "the total error rate is : 0.06\n"
     ]
    }
   ],
   "source": [
    "# 模型最终化\n",
    "scaler = MinMaxScaler().fit(X_train)\n",
    "rescaledX = scaler.transform(X_train)\n",
    "model = SVC(C=1.5, kernel='rbf')\n",
    "#model = KNeighborsClassifier(n_neighbors=11)\n",
    "model = GradientBoostingClassifier(n_estimators=50)\n",
    "model.fit(rescaledX, Y_train)\n",
    "\n",
    "# 评估模型\n",
    "rescaled_validationX = scaler.transform(X_validation)\n",
    "predictions = model.predict(rescaled_validationX)\n",
    "\n",
    "#  书上的评估方式，最后用向量机处理完毕之后，误差是0.7\n",
    "errorCount = 0.0\n",
    "for i in range(len(predictions)):\n",
    "    print(\"the classifier came back with: {}, the real answer is: {}\".format(predictions[i], Y_validation[i]))\n",
    "    if (predictions[i] != Y_validation[i]):\n",
    "        errorCount += 1.0\n",
    "print(\"the total error rate is : {}\".format(errorCount/float(len(predictions))))  \n",
    "\n",
    "# 评估算法模型\n",
    "# print(\"accuracy_score\\n\",accuracy_score(Y_validation, predictions))\n",
    "# print(\"\\nconfusion_matrix\\n\", pd.DataFrame(confusion_matrix(Y_validation, predictions),columns=np.unique(Y_validation), index=np.unique(Y_validation)))\n",
    "# print(\"\\nclassification_report\\n\", classification_report(Y_validation, predictions))"
   ]
  },
  {
   "cell_type": "markdown",
   "metadata": {},
   "source": [
    "### 总结：\n",
    "> 这次通过机器学习实战的第一个约会人员分类的项目，又学习了一遍sklearn机器学习的过程，下面在总结一下框架\n",
    "> * 定义问题\n",
    ">> * 导入包\n",
    ">> * 导入数据集（可能是txt格式的，就需要转换成numpy可以解析的数据）\n",
    "> * 查看数据\n",
    ">> * 查看数据的一般特性，形状shape，浏览head()，基本的统计特征describe()， info()看是否有缺失值， 如果有缺失值，再处理\n",
    ">> * 通过图标可视化特征，包括一维数据可视化和多维之间的相关性\n",
    ">>> * 一维数据可视化 hist(), 密度分布图\n",
    ">>> * 多维数据相关性 相关矩阵\n",
    "> * 数据集处理\n",
    ">> * 划分数据集\n",
    ">> * 归一化(StandardScaler()、MinMaxScaler())\n",
    "> * 评估模型\n",
    ">> * 建立一些模型， 然后k交叉验证\n",
    ">> * 创建箱线图， 观察，调出两三种效果比较好的\n",
    "> * 优化模型\n",
    ">> * 模型调参\n",
    ">> * 集成算法（随机森林，AdaBoost， 梯度上升， 极端随机树）\n",
    "> * 确定最终模型，进行预测和评估"
   ]
  }
 ],
 "metadata": {
  "kernelspec": {
   "display_name": "Python 3",
   "language": "python",
   "name": "python3"
  },
  "language_info": {
   "codemirror_mode": {
    "name": "ipython",
    "version": 3
   },
   "file_extension": ".py",
   "mimetype": "text/x-python",
   "name": "python",
   "nbconvert_exporter": "python",
   "pygments_lexer": "ipython3",
   "version": "3.6.8"
  }
 },
 "nbformat": 4,
 "nbformat_minor": 2
}
