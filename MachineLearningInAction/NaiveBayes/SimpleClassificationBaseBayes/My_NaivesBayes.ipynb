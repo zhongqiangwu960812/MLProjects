{
 "cells": [
  {
   "cell_type": "markdown",
   "metadata": {},
   "source": [
    "## 自编程实现朴素贝叶斯算法\n",
    "> 问题描述：取λ=0.2. 由下表训练数据， 利用先验概率的贝叶斯估计确定X=(2, S)的类标记y。 表中x^(1), x^(2)为特征， 取值的集合分别为A1={1,2,3}\n",
    "A2={S,M,L} Y为类标签 属于{1,-1}\n",
    ">>| 1 | 2 | 3 | 4 | 5 | 6 | 7 | 8 | 9 | 10 | 11 | 12 | 13 | 14 | 15 | 16 | 17 |\n",
    ":-: | :-: | :-: | :-: | :-: | :-: | :-: | :-: | :-: | :-: | :-: | :-: | :-: | :-: | :-: | :-: | :-: \n",
    "x^(1) | 1 | 1 | 1 | 1 | 1 | 2 | 2 | 2 | 2 | 2 | 2 | 3 | 3 | 3 | 3 | 3 |\n",
    "x^(2) | S | L | M | M | S | L | S | S | L | L | M | M | L | S | M | M |\n",
    "Y | -1 | 1 | 1 | -1 | -1 | 1 | 1 | -1 | 1 | -1 | 1 | 1 | 1 | 1 | -1 | 1 |\n",
    "\n",
    ">下面自编程实现朴素贝叶斯算法， 伪代码如下：\n",
    ">> 1. 构造训练集<br> \n",
    "2. 构造测试集 <br>\n",
    "3. 创建朴素贝叶斯模型并训练 <br> \n",
    "    (1) 计算条件概率和Y的先验概率<br>\n",
    "    (2) 计算联合概率，根据最大化联合概率返回结果\n",
    "4. 测试模型，得到分类标签\n",
    "> \n",
    "PS： 当贝叶斯估计λ=0时， 就是极大似然估计\n",
    ">\n",
    "> 再次回顾一下贝叶斯背后的原理"
   ]
  },
  {
   "cell_type": "code",
   "execution_count": 50,
   "metadata": {},
   "outputs": [],
   "source": [
    "# 导入数据集\n",
    "import numpy as np\n",
    "import pandas as pd\n",
    "\n",
    "from collections import Counter\n",
    "from sklearn.naive_bayes import GaussianNB, BernoulliNB, MultinomialNB\n",
    "from sklearn.preprocessing import LabelEncoder, OneHotEncoder"
   ]
  },
  {
   "cell_type": "code",
   "execution_count": 48,
   "metadata": {},
   "outputs": [],
   "source": [
    "# 创建贝叶斯模型\n",
    "class NaiveBayes:\n",
    "    # 初始化成员变量\n",
    "    def __init__(self, lamda=0):\n",
    "        self.lamda = lamda      # 防止分子为0\n",
    "        self.y_types = None\n",
    "        self.y_types_count = None\n",
    "        self.y_types_proba = None\n",
    "        self.x_types_proba = dict()\n",
    "    \n",
    "    # 定义训练函数\n",
    "    def fit(self, X_train, Y_train):\n",
    "        X_new_train = pd.DataFrame(X_train)\n",
    "        Y_new_train = pd.DataFrame(Y_train)\n",
    "        \n",
    "         # y的类型数量统计   pandas 的value_counts()函数可以对Series里面的每个值进行计数并且排序。\n",
    "        self.y_types = np.unique(Y_train)\n",
    "        self.y_types_count = Y_new_train[0].value_counts()\n",
    "        # y的先验概率的估计\n",
    "        self.y_types_proba = (self.y_types_count+self.lamda) / (Y_new_train.shape[0]+len(self.y_types)*self.lamda)\n",
    "        \n",
    "        # 计算条件概率 （xi 的编号,xi的取值，y的类型）：概率的计算\n",
    "        for idx in X_new_train.columns:\n",
    "            for j in self.y_types:\n",
    "                p_x_y = X_new_train[(Y_new_train==j).values][idx].value_counts()\n",
    "                for i in p_x_y.index:\n",
    "                    self.x_types_proba[(idx, i, j)] = (p_x_y[i]+self.lamda) / (self.y_types_count[j]+p_x_y.shape[0]*self.lamda)\n",
    "  \n",
    "        #print(self.x_types_proba)\n",
    "    # 计算联合概率并且做出预测\n",
    "    def predict(self, X_test):\n",
    "        res = []\n",
    "        for y in self.y_types:\n",
    "            p_y = self.y_types_count[y]\n",
    "            p_xy = 1\n",
    "            for idx, x in enumerate(X_test):\n",
    "                p_xy *= self.x_types_proba[(idx, x, y)]\n",
    "            res.append(p_y*p_xy)\n",
    "        for i in range(len(self.y_types)):\n",
    "            print(\"[{}]对应概率：{:.2%}\".format(self.y_types[i],res[i]))\n",
    "        \n",
    "        return self.y_types[np.argmax(res)]\n",
    "        "
   ]
  },
  {
   "cell_type": "code",
   "execution_count": 49,
   "metadata": {},
   "outputs": [
    {
     "name": "stdout",
     "output_type": "stream",
     "text": [
      "[-1]对应概率：100.00%\n",
      "[1]对应概率：80.00%\n",
      "['2' 'S'] 被分类为 -1\n"
     ]
    }
   ],
   "source": [
    "# 构建训练集\n",
    "X_train = np.array([[1, 'S'],\n",
    "                   [1, 'L'],\n",
    "                   [1, 'M'],\n",
    "                   [1, 'M'],\n",
    "                   [1, 'S'],\n",
    "                   [2, 'L'],\n",
    "                   [2, 'S'],\n",
    "                   [2, 'S'],\n",
    "                   [2, 'L'],\n",
    "                   [2, 'L'],\n",
    "                   [2, 'M'],\n",
    "                   [3, 'M'],\n",
    "                   [3, 'L'],\n",
    "                   [3, 'S'],\n",
    "                   [3, 'M'],\n",
    "                   [3, 'M']\n",
    "                   ]\n",
    "                  )\n",
    "\n",
    "Y_train = np.array([-1, 1, 1, -1, -1, 1, 1, -1, 1, -1, 1, 1, 1, 1, -1, 1])\n",
    "X_test = np.array([2, 'S'])\n",
    "\n",
    "model = NaiveBayes()\n",
    "model.fit(X_train, Y_train)\n",
    "y_predict = model.predict(X_test)\n",
    "print(\"{} 被分类为 {}\".format(X_test, y_predict))"
   ]
  },
  {
   "cell_type": "code",
   "execution_count": 65,
   "metadata": {},
   "outputs": [
    {
     "name": "stdout",
     "output_type": "stream",
     "text": [
      "['2' 'S'] 被分类为 [-1]\n",
      "分类概率:[[0.74872296 0.25127704]]\n"
     ]
    },
    {
     "name": "stderr",
     "output_type": "stream",
     "text": [
      "C:\\Users\\ZhongqiangWu\\Anaconda3\\envs\\tfenv\\lib\\site-packages\\sklearn\\preprocessing\\_encoders.py:415: FutureWarning: The handling of integer data will change in version 0.22. Currently, the categories are determined based on the range [0, max(values)], while in the future they will be determined based on the unique values.\n",
      "If you want the future behaviour and silence this warning, you can specify \"categories='auto'\".\n",
      "In case you used a LabelEncoder before this OneHotEncoder to convert the categories to integers, then you can now use the OneHotEncoder directly.\n",
      "  warnings.warn(msg, FutureWarning)\n"
     ]
    }
   ],
   "source": [
    "# 调用sklearn包试试， 首先要把原来的数据集转为One-hot向量\n",
    "\n",
    "data = np.vstack((X_train, X_test))\n",
    "#print(data)\n",
    "\n",
    "data_new = data.copy()\n",
    "le = LabelEncoder()\n",
    "data_new[:, 1] = le.fit_transform(data_new[:, 1])\n",
    "enc = OneHotEncoder()\n",
    "data_new = enc.fit_transform(data_new).toarray()\n",
    "\n",
    "# 提取训练集合测试集\n",
    "X_train_new = data_new[:X_train.shape[0],:]\n",
    "X_test_new = data_new[X_train.shape[0]:, :]\n",
    "\n",
    "#print(X_test_new)\n",
    "\n",
    "# 构造贝叶斯分类器\n",
    "clf = GaussianNB()         # 分类概率:[[0.74872296 0.25127704]]  -1\n",
    "#clf = BernoulliNB()         # 分类概率:[[0.5604818 0.4395182]]   -1\n",
    "# clf = MultinomialNB(alpha=0.00001)    #  -1   分类概率:[[0.55555477 0.44444523]]\n",
    "clf.fit(X_train_new, Y_train)\n",
    "y_predict = clf.predict(X_test_new)\n",
    "print(\"{} 被分类为 {}\".format(X_test, y_predict))\n",
    "print(\"分类概率:{}\".format(clf.predict_proba(X_test_new)))"
   ]
  },
  {
   "cell_type": "code",
   "execution_count": 68,
   "metadata": {},
   "outputs": [
    {
     "name": "stdout",
     "output_type": "stream",
     "text": [
      "['2' 'S'] 被分类为 [-1]\n",
      "分类概率:[[0.74872296 0.25127704]]\n"
     ]
    }
   ],
   "source": [
    "# 看看用pandas处理数据转换成onehot向量试试\n",
    "\n",
    "pddata = pd.DataFrame(data)\n",
    "new_data = pd.get_dummies(pddata)\n",
    "new_data = new_data.values\n",
    "\n",
    "# 提取训练集合测试集\n",
    "X_train_new = new_data[:X_train.shape[0],:]\n",
    "X_test_new = new_data[X_train.shape[0]:, :]\n",
    "\n",
    "#print(X_test_new)\n",
    "\n",
    "# 构造贝叶斯分类器\n",
    "clf = GaussianNB()         # 分类概率:[[0.74872296 0.25127704]]  -1\n",
    "#clf = BernoulliNB()         # 分类概率:[[0.5604818 0.4395182]]   -1\n",
    "# clf = MultinomialNB(alpha=0.00001)    #  -1   分类概率:[[0.55555477 0.44444523]]\n",
    "clf.fit(X_train_new, Y_train)\n",
    "y_predict = clf.predict(X_test_new)\n",
    "print(\"{} 被分类为 {}\".format(X_test, y_predict))\n",
    "print(\"分类概率:{}\".format(clf.predict_proba(X_test_new)))"
   ]
  },
  {
   "cell_type": "markdown",
   "metadata": {},
   "source": [
    "###  小总一下：\n",
    "> * 把原数据转换成one-hot表示，有两种方式： \n",
    ">> * 一种是借助sklearn.preprocessing中的LabelEncoder和OneHotEncoder函数进行转换\n",
    ">> * 一种是先把数据转换成DataFrame结构，然后用pd.getdummies进行转换，再用pd.DataFrame.values获取到值，得到X_train, X_test"
   ]
  }
 ],
 "metadata": {
  "kernelspec": {
   "display_name": "Python 3",
   "language": "python",
   "name": "python3"
  },
  "language_info": {
   "codemirror_mode": {
    "name": "ipython",
    "version": 3
   },
   "file_extension": ".py",
   "mimetype": "text/x-python",
   "name": "python",
   "nbconvert_exporter": "python",
   "pygments_lexer": "ipython3",
   "version": "3.6.8"
  }
 },
 "nbformat": 4,
 "nbformat_minor": 2
}
